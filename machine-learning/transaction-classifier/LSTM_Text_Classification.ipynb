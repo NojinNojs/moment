{
  "cells": [
    {
      "cell_type": "markdown",
      "metadata": {
        "id": "hmA1zqIn1enx"
      },
      "source": [
        "# Text Classification Using The LSTM Deep Learning Model"
      ]
    },
    {
      "cell_type": "markdown",
      "metadata": {
        "id": "Zpaq-5Cy1ieF"
      },
      "source": [
        "## Import necesarry Libraries"
      ]
    },
    {
      "cell_type": "code",
      "execution_count": 16,
      "metadata": {
        "colab": {
          "base_uri": "https://localhost:8080/"
        },
        "id": "DUpw3C1Z79cy",
        "outputId": "c6449554-d47a-44b1-f069-e23ef7cf645e"
      },
      "outputs": [
        {
          "output_type": "stream",
          "name": "stdout",
          "text": [
            "Requirement already satisfied: sastrawi in /usr/local/lib/python3.11/dist-packages (1.0.1)\n",
            "Requirement already satisfied: pandas in /usr/local/lib/python3.11/dist-packages (2.2.2)\n",
            "Requirement already satisfied: numpy in /usr/local/lib/python3.11/dist-packages (2.0.2)\n",
            "Requirement already satisfied: tensorflow in /usr/local/lib/python3.11/dist-packages (2.18.0)\n",
            "Requirement already satisfied: scikit-learn in /usr/local/lib/python3.11/dist-packages (1.6.1)\n",
            "Requirement already satisfied: python-dateutil>=2.8.2 in /usr/local/lib/python3.11/dist-packages (from pandas) (2.8.2)\n",
            "Requirement already satisfied: pytz>=2020.1 in /usr/local/lib/python3.11/dist-packages (from pandas) (2025.2)\n",
            "Requirement already satisfied: tzdata>=2022.7 in /usr/local/lib/python3.11/dist-packages (from pandas) (2025.2)\n",
            "Requirement already satisfied: absl-py>=1.0.0 in /usr/local/lib/python3.11/dist-packages (from tensorflow) (1.4.0)\n",
            "Requirement already satisfied: astunparse>=1.6.0 in /usr/local/lib/python3.11/dist-packages (from tensorflow) (1.6.3)\n",
            "Requirement already satisfied: flatbuffers>=24.3.25 in /usr/local/lib/python3.11/dist-packages (from tensorflow) (25.2.10)\n",
            "Requirement already satisfied: gast!=0.5.0,!=0.5.1,!=0.5.2,>=0.2.1 in /usr/local/lib/python3.11/dist-packages (from tensorflow) (0.6.0)\n",
            "Requirement already satisfied: google-pasta>=0.1.1 in /usr/local/lib/python3.11/dist-packages (from tensorflow) (0.2.0)\n",
            "Requirement already satisfied: libclang>=13.0.0 in /usr/local/lib/python3.11/dist-packages (from tensorflow) (18.1.1)\n",
            "Requirement already satisfied: opt-einsum>=2.3.2 in /usr/local/lib/python3.11/dist-packages (from tensorflow) (3.4.0)\n",
            "Requirement already satisfied: packaging in /usr/local/lib/python3.11/dist-packages (from tensorflow) (24.2)\n",
            "Requirement already satisfied: protobuf!=4.21.0,!=4.21.1,!=4.21.2,!=4.21.3,!=4.21.4,!=4.21.5,<6.0.0dev,>=3.20.3 in /usr/local/lib/python3.11/dist-packages (from tensorflow) (5.29.4)\n",
            "Requirement already satisfied: requests<3,>=2.21.0 in /usr/local/lib/python3.11/dist-packages (from tensorflow) (2.32.3)\n",
            "Requirement already satisfied: setuptools in /usr/local/lib/python3.11/dist-packages (from tensorflow) (75.2.0)\n",
            "Requirement already satisfied: six>=1.12.0 in /usr/local/lib/python3.11/dist-packages (from tensorflow) (1.17.0)\n",
            "Requirement already satisfied: termcolor>=1.1.0 in /usr/local/lib/python3.11/dist-packages (from tensorflow) (2.5.0)\n",
            "Requirement already satisfied: typing-extensions>=3.6.6 in /usr/local/lib/python3.11/dist-packages (from tensorflow) (4.13.0)\n",
            "Requirement already satisfied: wrapt>=1.11.0 in /usr/local/lib/python3.11/dist-packages (from tensorflow) (1.17.2)\n",
            "Requirement already satisfied: grpcio<2.0,>=1.24.3 in /usr/local/lib/python3.11/dist-packages (from tensorflow) (1.71.0)\n",
            "Requirement already satisfied: tensorboard<2.19,>=2.18 in /usr/local/lib/python3.11/dist-packages (from tensorflow) (2.18.0)\n",
            "Requirement already satisfied: keras>=3.5.0 in /usr/local/lib/python3.11/dist-packages (from tensorflow) (3.8.0)\n",
            "Requirement already satisfied: h5py>=3.11.0 in /usr/local/lib/python3.11/dist-packages (from tensorflow) (3.13.0)\n",
            "Requirement already satisfied: ml-dtypes<0.5.0,>=0.4.0 in /usr/local/lib/python3.11/dist-packages (from tensorflow) (0.4.1)\n",
            "Requirement already satisfied: tensorflow-io-gcs-filesystem>=0.23.1 in /usr/local/lib/python3.11/dist-packages (from tensorflow) (0.37.1)\n",
            "Requirement already satisfied: scipy>=1.6.0 in /usr/local/lib/python3.11/dist-packages (from scikit-learn) (1.14.1)\n",
            "Requirement already satisfied: joblib>=1.2.0 in /usr/local/lib/python3.11/dist-packages (from scikit-learn) (1.4.2)\n",
            "Requirement already satisfied: threadpoolctl>=3.1.0 in /usr/local/lib/python3.11/dist-packages (from scikit-learn) (3.6.0)\n",
            "Requirement already satisfied: wheel<1.0,>=0.23.0 in /usr/local/lib/python3.11/dist-packages (from astunparse>=1.6.0->tensorflow) (0.45.1)\n",
            "Requirement already satisfied: rich in /usr/local/lib/python3.11/dist-packages (from keras>=3.5.0->tensorflow) (13.9.4)\n",
            "Requirement already satisfied: namex in /usr/local/lib/python3.11/dist-packages (from keras>=3.5.0->tensorflow) (0.0.8)\n",
            "Requirement already satisfied: optree in /usr/local/lib/python3.11/dist-packages (from keras>=3.5.0->tensorflow) (0.14.1)\n",
            "Requirement already satisfied: charset-normalizer<4,>=2 in /usr/local/lib/python3.11/dist-packages (from requests<3,>=2.21.0->tensorflow) (3.4.1)\n",
            "Requirement already satisfied: idna<4,>=2.5 in /usr/local/lib/python3.11/dist-packages (from requests<3,>=2.21.0->tensorflow) (3.10)\n",
            "Requirement already satisfied: urllib3<3,>=1.21.1 in /usr/local/lib/python3.11/dist-packages (from requests<3,>=2.21.0->tensorflow) (2.3.0)\n",
            "Requirement already satisfied: certifi>=2017.4.17 in /usr/local/lib/python3.11/dist-packages (from requests<3,>=2.21.0->tensorflow) (2025.1.31)\n",
            "Requirement already satisfied: markdown>=2.6.8 in /usr/local/lib/python3.11/dist-packages (from tensorboard<2.19,>=2.18->tensorflow) (3.7)\n",
            "Requirement already satisfied: tensorboard-data-server<0.8.0,>=0.7.0 in /usr/local/lib/python3.11/dist-packages (from tensorboard<2.19,>=2.18->tensorflow) (0.7.2)\n",
            "Requirement already satisfied: werkzeug>=1.0.1 in /usr/local/lib/python3.11/dist-packages (from tensorboard<2.19,>=2.18->tensorflow) (3.1.3)\n",
            "Requirement already satisfied: MarkupSafe>=2.1.1 in /usr/local/lib/python3.11/dist-packages (from werkzeug>=1.0.1->tensorboard<2.19,>=2.18->tensorflow) (3.0.2)\n",
            "Requirement already satisfied: markdown-it-py>=2.2.0 in /usr/local/lib/python3.11/dist-packages (from rich->keras>=3.5.0->tensorflow) (3.0.0)\n",
            "Requirement already satisfied: pygments<3.0.0,>=2.13.0 in /usr/local/lib/python3.11/dist-packages (from rich->keras>=3.5.0->tensorflow) (2.18.0)\n",
            "Requirement already satisfied: mdurl~=0.1 in /usr/local/lib/python3.11/dist-packages (from markdown-it-py>=2.2.0->rich->keras>=3.5.0->tensorflow) (0.1.2)\n"
          ]
        }
      ],
      "source": [
        "!pip install sastrawi pandas numpy tensorflow scikit-learn"
      ]
    },
    {
      "cell_type": "code",
      "execution_count": 17,
      "metadata": {
        "id": "DnokT83J1o3o"
      },
      "outputs": [],
      "source": [
        "import pandas as pd\n",
        "import numpy as np\n",
        "import tensorflow as tf\n",
        "from tensorflow.keras.models import Sequential, load_model\n",
        "from tensorflow.keras.layers import LSTM, Dense, Embedding, Dropout, Bidirectional, GlobalMaxPooling1D\n",
        "from tensorflow.keras.preprocessing.text import Tokenizer\n",
        "from tensorflow.keras.preprocessing.sequence import pad_sequences\n",
        "from tensorflow.keras.callbacks import EarlyStopping, ModelCheckpoint\n",
        "from sklearn.model_selection import train_test_split\n",
        "from sklearn.utils.class_weight import compute_class_weight\n",
        "from Sastrawi.Stemmer.StemmerFactory import StemmerFactory\n",
        "import pickle\n",
        "import re\n",
        "import os"
      ]
    },
    {
      "cell_type": "markdown",
      "source": [
        "## Define Categories"
      ],
      "metadata": {
        "id": "YMDMb_v2V8ED"
      }
    },
    {
      "cell_type": "code",
      "source": [
        "ALLOWED_CATEGORIES = [\n",
        "    'Allowance',\n",
        "    'Asset Sale',\n",
        "    'Bonus',\n",
        "    'Dividend',\n",
        "    'Freelance',\n",
        "    'Gift',\n",
        "    'Holiday Bonus',\n",
        "    'Inheritance',\n",
        "    'Investment',\n",
        "    'Other',\n",
        "    'Pension',\n",
        "    'Refund',\n",
        "    'Rental',\n",
        "    'Salary',\n",
        "    'Small Business'\n",
        "]"
      ],
      "metadata": {
        "id": "p2cGmEZ2V_ns"
      },
      "execution_count": 18,
      "outputs": []
    },
    {
      "cell_type": "markdown",
      "metadata": {
        "id": "t-A84iEN1sE0"
      },
      "source": [
        "## Deleting Model Artifacts"
      ]
    },
    {
      "cell_type": "code",
      "execution_count": 19,
      "metadata": {
        "id": "TCUcRy922n1P",
        "colab": {
          "base_uri": "https://localhost:8080/"
        },
        "outputId": "4e91457c-eee9-44d7-952e-bc2518b58a1b"
      },
      "outputs": [
        {
          "output_type": "stream",
          "name": "stdout",
          "text": [
            "Removed previous model_artifacts/finance_model.h5\n",
            "Removed previous model_artifacts/tokenizer.pkl\n",
            "Removed previous model_artifacts/label_mappings.pkl\n"
          ]
        }
      ],
      "source": [
        "artifacts = ['model_artifacts/finance_model.h5', 'model_artifacts/tokenizer.pkl', 'model_artifacts/label_mappings.pkl']\n",
        "\n",
        "for file in artifacts:\n",
        "    if os.path.exists(file):\n",
        "        os.remove(file)\n",
        "        print(f\"Removed previous {file}\")"
      ]
    },
    {
      "cell_type": "markdown",
      "metadata": {
        "id": "LGSSrI0T2qoQ"
      },
      "source": [
        "## Text Preprocessing"
      ]
    },
    {
      "cell_type": "code",
      "execution_count": 20,
      "metadata": {
        "id": "wVugyNPw2wRt"
      },
      "outputs": [],
      "source": [
        "factory = StemmerFactory()\n",
        "lemmatizer = factory.create_stemmer()\n",
        "\n",
        "# Enhanced financial terms dictionary with English-Indonesian mappings\n",
        "FINANCIAL_TERMS = {\n",
        "    # Payment methods\n",
        "    \"gopay\": \"gopay\", \"ovo\": \"ovo\", \"dana\": \"dana\", \"shopeepay\": \"shopeepay\",\n",
        "    # Banks\n",
        "    \"bca\": \"bca\", \"bni\": \"bni\", \"bri\": \"bri\", \"mandiri\": \"mandiri\",\n",
        "    # Financial terms\n",
        "    \"kpr\": \"kpr\", \"atm\": \"atm\", \"rekening\": \"rekening\", \"deposito\": \"deposito\",\n",
        "    # Providers\n",
        "    \"pln\": \"pln\", \"pdam\": \"pdam\", \"telkomsel\": \"telkomsel\", \"indihome\": \"indihome\",\n",
        "    # Currencies\n",
        "    \"rp\": \"rp\", \"juta\": \"juta\", \"ribu\": \"ribu\",\n",
        "    # Modern terms\n",
        "    \"bibit\": \"investasi\", \"pluang\": \"investasi\", \"stockbit\": \"investasi\",\n",
        "    \"fitness\": \"gym\", \"center\": \"gym\", \"membership\": \"member\",\n",
        "    \"top up\": \"isi ulang\", \"invest\": \"investasi\", \"saham\": \"investasi\",\n",
        "    # English terms mapped to Indonesian\n",
        "    \"salary\": \"gaji\", \"wage\": \"gaji\", \"income\": \"pendapatan\",\n",
        "    \"bonus\": \"bonus\", \"dividend\": \"dividen\", \"freelance\": \"pekerja lepas\",\n",
        "    \"gift\": \"hadiah\", \"present\": \"hadiah\", \"allowance\": \"uang saku\",\n",
        "    \"pension\": \"pensiun\", \"refund\": \"pengembalian dana\",\n",
        "    \"rent\": \"sewa\", \"rental\": \"sewa\", \"investment\": \"investasi\",\n",
        "    \"business\": \"usaha\", \"sale\": \"penjualan\", \"asset\": \"aset\",\n",
        "    \"inheritance\": \"warisan\", \"holiday\": \"liburan\", \"thr\": \"tunjangan hari raya\"\n",
        "}\n",
        "\n",
        "def preprocess_text(text):\n",
        "    \"\"\"Enhanced bilingual preprocessing with special handling for financial terms\"\"\"\n",
        "    # Special handling for common mis-stemmed terms\n",
        "    preservation_terms = {\n",
        "        'warisan': 'warisan',\n",
        "        'dividens': 'dividen',\n",
        "        'returns': 'return',\n",
        "        'investasiasi': 'investasi',\n",
        "        'investasiment': 'investasi',\n",
        "        'dividend': 'dividen',\n",
        "        'roi': 'return investasi'\n",
        "    }\n",
        "\n",
        "    # Convert to lowercase\n",
        "    text = text.lower()\n",
        "\n",
        "    # Replace preserved terms before any processing\n",
        "    for term, replacement in preservation_terms.items():\n",
        "        text = text.replace(term, replacement)\n",
        "\n",
        "    # Replace financial terms (both English and Indonesian)\n",
        "    for term, replacement in FINANCIAL_TERMS.items():\n",
        "        text = text.replace(term, replacement)\n",
        "\n",
        "    # Remove special chars but keep basic punctuation\n",
        "    text = re.sub(r'[^\\w\\s.,]', '', text)\n",
        "\n",
        "    # Conservative stemming\n",
        "    tokens = []\n",
        "    for token in text.split():\n",
        "        if token in preservation_terms:\n",
        "            tokens.append(preservation_terms[token])\n",
        "        elif token in FINANCIAL_TERMS:\n",
        "            tokens.append(FINANCIAL_TERMS[token])\n",
        "        else:\n",
        "            stemmed = lemmatizer.stem(token)\n",
        "            tokens.append(stemmed)\n",
        "\n",
        "    return ' '.join(tokens)"
      ]
    },
    {
      "cell_type": "markdown",
      "metadata": {
        "id": "NaiLWJgN2ylP"
      },
      "source": [
        "## Loading Data"
      ]
    },
    {
      "cell_type": "code",
      "execution_count": 21,
      "metadata": {
        "id": "MI2OJ-1m24i5"
      },
      "outputs": [],
      "source": [
        "def load_and_augment_data(csv_path):\n",
        "    \"\"\"Load data with bilingual augmentation\"\"\"\n",
        "    df = pd.read_csv(csv_path)\n",
        "\n",
        "    # Filter to only include allowed categories\n",
        "    df = df[df['label'].isin(ALLOWED_CATEGORIES)]\n",
        "\n",
        "    # Add bilingual transaction examples\n",
        "    bilingual_transactions = [\n",
        "        [\"Gaji bulanan dari perusahaan\", \"Salary\"],\n",
        "        [\"Monthly salary from company\", \"Salary\"],\n",
        "        [\"Bonus kinerja triwulan\", \"Bonus\"],\n",
        "        [\"Performance bonus for Q3\", \"Bonus\"],\n",
        "        [\"Pendapatan freelance desain\", \"Freelance\"],\n",
        "        [\"Freelance UI design income\", \"Freelance\"],\n",
        "        [\"Dividen saham dari investasi\", \"Dividend\"],\n",
        "        [\"Stock dividend from investments\", \"Dividend\"],\n",
        "        [\"Pendapatan sewa apartemen\", \"Rental\"],\n",
        "        [\"Apartment rental income\", \"Rental\"],\n",
        "        [\"Uang THR lebaran dari kantor\", \"Holiday Bonus\"],\n",
        "        [\"Year-end holiday bonus\", \"Holiday Bonus\"],\n",
        "        [\"Penjualan motor bekas\", \"Asset Sale\"],\n",
        "        [\"Used motorcycle sale\", \"Asset Sale\"],\n",
        "        [\"Uang saku bulanan dari orang tua\", \"Allowance\"],\n",
        "        [\"Monthly allowance from parents\", \"Allowance\"],\n",
        "        [\"Warisan dari kakek\", \"Inheritance\"],\n",
        "        [\"Inheritance from grandfather\", \"Inheritance\"],\n",
        "        [\"Pensiun bulanan dari BPJS\", \"Pension\"],\n",
        "        [\"Monthly pension from BPJS\", \"Pension\"],\n",
        "        [\"Refund tiket pesawat\", \"Refund\"],\n",
        "        [\"Flight ticket refund\", \"Refund\"],\n",
        "        [\"Pendapatan usaha kafe\", \"Small Business\"],\n",
        "        [\"Cafe business income\", \"Small Business\"],\n",
        "        [\"Hadiah ulang tahun\", \"Gift\"],\n",
        "        [\"Birthday present\", \"Gift\"],\n",
        "        [\"Keuntungan investasi saham\", \"Investment\"],\n",
        "        [\"Stock investment profit\", \"Investment\"],\n",
        "        [\"Pembagian dividen saham teknologi\", \"Dividend\"],\n",
        "        [\"Dividend from tech stocks\", \"Dividend\"],\n",
        "        [\"Return on investment portfolio\", \"Investment\"],\n",
        "        [\"Keuntungan portofolio investasi\", \"Investment\"],\n",
        "        [\"Warisan orang tua berupa properti\", \"Inheritance\"],\n",
        "        [\"Inheritance of family property\", \"Inheritance\"],\n",
        "        [\"Uang jajan anak sekolah\", \"Allowance\"],\n",
        "        [\"Duit saku bulanan anak\", \"Allowance\"],\n",
        "        [\"Pendapatan toko kelontong\", \"Small Business\"],\n",
        "        [\"Revenue from corner shop\", \"Small Business\"],\n",
        "        [\"Hadiah anniversary pernikahan\", \"Gift\"],\n",
        "        [\"Bingkisan ulang tahun\", \"Gift\"]\n",
        "    ]\n",
        "\n",
        "    modern_df = pd.DataFrame(bilingual_transactions, columns=['text', 'label'])\n",
        "    df = pd.concat([df, modern_df])\n",
        "\n",
        "    # Filter again to ensure no invalid categories slipped in\n",
        "    df = df[df['label'].isin(ALLOWED_CATEGORIES)]\n",
        "\n",
        "    # Preprocess all text\n",
        "    df['processed_text'] = df['text'].apply(preprocess_text)\n",
        "    return df"
      ]
    },
    {
      "cell_type": "markdown",
      "metadata": {
        "id": "EDLoMSiQ26pU"
      },
      "source": [
        "## Model Definition"
      ]
    },
    {
      "cell_type": "code",
      "execution_count": 22,
      "metadata": {
        "id": "zqegMJav2-yE"
      },
      "outputs": [],
      "source": [
        "def create_lstm_model(vocab_size, num_classes, max_len):\n",
        "    model = Sequential([\n",
        "        Embedding(input_dim=vocab_size, output_dim=256, mask_zero=True),\n",
        "\n",
        "        # Both BiLSTMs return sequences\n",
        "        Bidirectional(LSTM(128, return_sequences=True,\n",
        "                     dropout=0.2, recurrent_dropout=0.2)),\n",
        "        Bidirectional(LSTM(64, return_sequences=True,\n",
        "                     dropout=0.2, recurrent_dropout=0.2)),\n",
        "\n",
        "        # Now GlobalMaxPooling will work\n",
        "        GlobalMaxPooling1D(),\n",
        "\n",
        "        Dense(128, activation='relu', kernel_regularizer='l2'),\n",
        "        Dropout(0.3),\n",
        "        Dense(num_classes, activation='softmax')\n",
        "    ])\n",
        "\n",
        "    model.compile(\n",
        "        optimizer=tf.keras.optimizers.Adam(learning_rate=0.0005),\n",
        "        loss='categorical_crossentropy',\n",
        "        metrics=['accuracy',\n",
        "                tf.keras.metrics.Precision(name='precision'),\n",
        "                tf.keras.metrics.Recall(name='recall')]\n",
        "    )\n",
        "    return model"
      ]
    },
    {
      "cell_type": "markdown",
      "metadata": {
        "id": "u2bxa-Gx3AlQ"
      },
      "source": [
        "## Model Training"
      ]
    },
    {
      "cell_type": "code",
      "execution_count": 23,
      "metadata": {
        "id": "8VmekCGN3GUm"
      },
      "outputs": [],
      "source": [
        "def train_model(df, model_save_path='model_artifacts/finance_model.h5'):\n",
        "    # Prepare labels - only using our allowed categories\n",
        "    label2id = {label: i for i, label in enumerate(ALLOWED_CATEGORIES)}\n",
        "    id2label = {i: label for i, label in enumerate(ALLOWED_CATEGORIES)}\n",
        "\n",
        "    # Filter out any labels not in our allowed categories (just in case)\n",
        "    df = df[df['label'].isin(ALLOWED_CATEGORIES)]\n",
        "    y = pd.get_dummies(df['label'].map(label2id)).values\n",
        "\n",
        "    # Tokenization\n",
        "    tokenizer = Tokenizer(num_words=10000, oov_token=\"<OOV>\", filters='')\n",
        "    tokenizer.fit_on_texts(df['processed_text'])\n",
        "    vocab_size = len(tokenizer.word_index) + 1\n",
        "\n",
        "    # Sequence preparation\n",
        "    sequences = tokenizer.texts_to_sequences(df['processed_text'])\n",
        "    max_len = max(len(seq) for seq in sequences)\n",
        "    X = pad_sequences(sequences, maxlen=max_len, padding='post', truncating='post')\n",
        "\n",
        "    # Class weights\n",
        "    class_weights = compute_class_weight(\n",
        "        'balanced',\n",
        "        classes=np.unique(df['label'].map(label2id)),\n",
        "        y=df['label'].map(label2id)\n",
        "    )\n",
        "    class_weights = dict(enumerate(class_weights))\n",
        "\n",
        "    # Train-test split\n",
        "    X_train, X_val, y_train, y_val = train_test_split(\n",
        "        X, y, test_size=0.2, random_state=42, stratify=df['label']\n",
        "    )\n",
        "\n",
        "    # Model training\n",
        "    model = create_lstm_model(vocab_size, len(ALLOWED_CATEGORIES), max_len)\n",
        "\n",
        "    callbacks = [\n",
        "        EarlyStopping(patience=5, restore_best_weights=True),\n",
        "        ModelCheckpoint(model_save_path, save_best_only=True)\n",
        "    ]\n",
        "\n",
        "    history = model.fit(\n",
        "        X_train, y_train,\n",
        "        validation_data=(X_val, y_val),\n",
        "        epochs=50,\n",
        "        batch_size=32,\n",
        "        class_weight=class_weights,\n",
        "        callbacks=callbacks\n",
        "    )\n",
        "\n",
        "    # Save artifacts\n",
        "    with open('model_artifacts/tokenizer.pkl', 'wb') as handle:\n",
        "        pickle.dump(tokenizer, handle, protocol=pickle.HIGHEST_PROTOCOL)\n",
        "    with open('model_artifacts/label_mappings.pkl', 'wb') as handle:\n",
        "        pickle.dump((label2id, id2label), handle, protocol=pickle.HIGHEST_PROTOCOL)\n",
        "\n",
        "    return model, tokenizer, label2id, id2label, max_len\n"
      ]
    },
    {
      "cell_type": "markdown",
      "metadata": {
        "id": "9069rWp63Qer"
      },
      "source": [
        "## Model Evaluation and Testing"
      ]
    },
    {
      "cell_type": "code",
      "execution_count": 24,
      "metadata": {
        "id": "cuiLgNha3Upq"
      },
      "outputs": [],
      "source": [
        "class FinancialClassifier:\n",
        "    def __init__(self, model_path='model_artifacts/finance_model.h5'):\n",
        "        self.model = load_model(model_path)\n",
        "        with open('model_artifacts/tokenizer.pkl', 'rb') as handle:\n",
        "            self.tokenizer = pickle.load(handle)\n",
        "        with open('model_artifacts/label_mappings.pkl', 'rb') as handle:\n",
        "            self.label2id, self.id2label = pickle.load(handle)\n",
        "        self.max_len = self.model.input_shape[1]\n",
        "\n",
        "    def predict(self, text, confidence_threshold=0.7):\n",
        "        # Enhanced bilingual preprocessing\n",
        "        processed = preprocess_text(text)\n",
        "        seq = self.tokenizer.texts_to_sequences([processed])\n",
        "        padded = pad_sequences(seq, maxlen=self.max_len, padding='post', truncating='post')\n",
        "\n",
        "        # Predict\n",
        "        proba = self.model.predict(padded, verbose=0)[0]\n",
        "        pred_id = np.argmax(proba)\n",
        "        confidence = proba[pred_id]\n",
        "\n",
        "        # Prepare results\n",
        "        result = {\n",
        "            'original_text': text,\n",
        "            'processed_text': processed,\n",
        "            'prediction': self.id2label[pred_id],\n",
        "            'confidence': float(confidence),\n",
        "            'all_predictions': {\n",
        "                self.id2label[i]: float(p)\n",
        "                for i, p in enumerate(proba)\n",
        "                if p > 0.05\n",
        "            }\n",
        "        }\n",
        "\n",
        "        # Apply confidence threshold\n",
        "        if confidence < confidence_threshold:\n",
        "            result['prediction'] = 'Other'  # Default to 'Other' for low confidence\n",
        "            result['suggestion'] = 'Low confidence prediction'\n",
        "\n",
        "        return result"
      ]
    },
    {
      "cell_type": "code",
      "execution_count": 25,
      "metadata": {
        "colab": {
          "base_uri": "https://localhost:8080/"
        },
        "id": "Lphb0i6B83N_",
        "outputId": "9ae9d5d1-21b6-4a37-b0f5-54b948f258e5"
      },
      "outputs": [
        {
          "output_type": "stream",
          "name": "stdout",
          "text": [
            "Loaded 216 samples with 15 categories\n",
            "Categories: ['Salary' 'Bonus' 'Freelance' 'Dividend' 'Rental' 'Holiday Bonus'\n",
            " 'Asset Sale' 'Allowance' 'Inheritance' 'Pension' 'Refund'\n",
            " 'Small Business' 'Gift' 'Investment' 'Other']\n",
            "\n",
            "Training model...\n",
            "Epoch 1/50\n"
          ]
        },
        {
          "output_type": "stream",
          "name": "stderr",
          "text": [
            "/usr/local/lib/python3.11/dist-packages/keras/src/layers/layer.py:938: UserWarning: Layer 'global_max_pooling1d_2' (of type GlobalMaxPooling1D) was passed an input with a mask attached to it. However, this layer does not support masking and will therefore destroy the mask information. Downstream layers will not see the mask.\n",
            "  warnings.warn(\n"
          ]
        },
        {
          "output_type": "stream",
          "name": "stdout",
          "text": [
            "\u001b[1m6/6\u001b[0m \u001b[32m━━━━━━━━━━━━━━━━━━━━\u001b[0m\u001b[37m\u001b[0m \u001b[1m0s\u001b[0m 119ms/step - accuracy: 0.0214 - loss: 3.9564 - precision: 0.0000e+00 - recall: 0.0000e+00"
          ]
        },
        {
          "output_type": "stream",
          "name": "stderr",
          "text": [
            "WARNING:absl:You are saving your model as an HDF5 file via `model.save()` or `keras.saving.save_model(model)`. This file format is considered legacy. We recommend using instead the native Keras format, e.g. `model.save('my_model.keras')` or `keras.saving.save_model(model, 'my_model.keras')`. \n"
          ]
        },
        {
          "output_type": "stream",
          "name": "stdout",
          "text": [
            "\b\b\b\b\b\b\b\b\b\b\b\b\b\b\b\b\b\b\b\b\b\b\b\b\b\b\b\b\b\b\b\b\b\b\b\b\b\b\b\b\b\b\b\b\b\b\b\b\b\b\b\b\b\b\b\b\b\b\b\b\b\b\b\b\b\b\b\b\b\b\b\b\b\b\b\b\b\b\b\b\b\b\b\b\b\b\b\b\b\b\b\b\b\b\b\b\b\b\b\b\b\b\b\b\b\b\b\b\b\b\b\b\b\b\b\b\b\r\u001b[1m6/6\u001b[0m \u001b[32m━━━━━━━━━━━━━━━━━━━━\u001b[0m\u001b[37m\u001b[0m \u001b[1m18s\u001b[0m 520ms/step - accuracy: 0.0250 - loss: 3.9553 - precision: 0.0000e+00 - recall: 0.0000e+00 - val_accuracy: 0.2045 - val_loss: 3.8953 - val_precision: 0.0000e+00 - val_recall: 0.0000e+00\n",
            "Epoch 2/50\n",
            "\u001b[1m6/6\u001b[0m \u001b[32m━━━━━━━━━━━━━━━━━━━━\u001b[0m\u001b[37m\u001b[0m \u001b[1m0s\u001b[0m 115ms/step - accuracy: 0.1480 - loss: 3.8365 - precision: 0.0000e+00 - recall: 0.0000e+00"
          ]
        },
        {
          "output_type": "stream",
          "name": "stderr",
          "text": [
            "WARNING:absl:You are saving your model as an HDF5 file via `model.save()` or `keras.saving.save_model(model)`. This file format is considered legacy. We recommend using instead the native Keras format, e.g. `model.save('my_model.keras')` or `keras.saving.save_model(model, 'my_model.keras')`. \n"
          ]
        },
        {
          "output_type": "stream",
          "name": "stdout",
          "text": [
            "\b\b\b\b\b\b\b\b\b\b\b\b\b\b\b\b\b\b\b\b\b\b\b\b\b\b\b\b\b\b\b\b\b\b\b\b\b\b\b\b\b\b\b\b\b\b\b\b\b\b\b\b\b\b\b\b\b\b\b\b\b\b\b\b\b\b\b\b\b\b\b\b\b\b\b\b\b\b\b\b\b\b\b\b\b\b\b\b\b\b\b\b\b\b\b\b\b\b\b\b\b\b\b\b\b\b\b\b\b\b\b\b\b\b\b\b\b\r\u001b[1m6/6\u001b[0m \u001b[32m━━━━━━━━━━━━━━━━━━━━\u001b[0m\u001b[37m\u001b[0m \u001b[1m3s\u001b[0m 149ms/step - accuracy: 0.1509 - loss: 3.8419 - precision: 0.0000e+00 - recall: 0.0000e+00 - val_accuracy: 0.4091 - val_loss: 3.8226 - val_precision: 0.0000e+00 - val_recall: 0.0000e+00\n",
            "Epoch 3/50\n",
            "\u001b[1m6/6\u001b[0m \u001b[32m━━━━━━━━━━━━━━━━━━━━\u001b[0m\u001b[37m\u001b[0m \u001b[1m0s\u001b[0m 115ms/step - accuracy: 0.3510 - loss: 3.8330 - precision: 0.0000e+00 - recall: 0.0000e+00"
          ]
        },
        {
          "output_type": "stream",
          "name": "stderr",
          "text": [
            "WARNING:absl:You are saving your model as an HDF5 file via `model.save()` or `keras.saving.save_model(model)`. This file format is considered legacy. We recommend using instead the native Keras format, e.g. `model.save('my_model.keras')` or `keras.saving.save_model(model, 'my_model.keras')`. \n"
          ]
        },
        {
          "output_type": "stream",
          "name": "stdout",
          "text": [
            "\b\b\b\b\b\b\b\b\b\b\b\b\b\b\b\b\b\b\b\b\b\b\b\b\b\b\b\b\b\b\b\b\b\b\b\b\b\b\b\b\b\b\b\b\b\b\b\b\b\b\b\b\b\b\b\b\b\b\b\b\b\b\b\b\b\b\b\b\b\b\b\b\b\b\b\b\b\b\b\b\b\b\b\b\b\b\b\b\b\b\b\b\b\b\b\b\b\b\b\b\b\b\b\b\b\b\b\b\b\b\b\b\b\b\b\b\b\r\u001b[1m6/6\u001b[0m \u001b[32m━━━━━━━━━━━━━━━━━━━━\u001b[0m\u001b[37m\u001b[0m \u001b[1m1s\u001b[0m 147ms/step - accuracy: 0.3499 - loss: 3.8284 - precision: 0.0000e+00 - recall: 0.0000e+00 - val_accuracy: 0.4773 - val_loss: 3.7523 - val_precision: 0.0000e+00 - val_recall: 0.0000e+00\n",
            "Epoch 4/50\n",
            "\u001b[1m6/6\u001b[0m \u001b[32m━━━━━━━━━━━━━━━━━━━━\u001b[0m\u001b[37m\u001b[0m \u001b[1m0s\u001b[0m 118ms/step - accuracy: 0.4397 - loss: 3.7429 - precision: 0.0000e+00 - recall: 0.0000e+00"
          ]
        },
        {
          "output_type": "stream",
          "name": "stderr",
          "text": [
            "WARNING:absl:You are saving your model as an HDF5 file via `model.save()` or `keras.saving.save_model(model)`. This file format is considered legacy. We recommend using instead the native Keras format, e.g. `model.save('my_model.keras')` or `keras.saving.save_model(model, 'my_model.keras')`. \n"
          ]
        },
        {
          "output_type": "stream",
          "name": "stdout",
          "text": [
            "\b\b\b\b\b\b\b\b\b\b\b\b\b\b\b\b\b\b\b\b\b\b\b\b\b\b\b\b\b\b\b\b\b\b\b\b\b\b\b\b\b\b\b\b\b\b\b\b\b\b\b\b\b\b\b\b\b\b\b\b\b\b\b\b\b\b\b\b\b\b\b\b\b\b\b\b\b\b\b\b\b\b\b\b\b\b\b\b\b\b\b\b\b\b\b\b\b\b\b\b\b\b\b\b\b\b\b\b\b\b\b\b\b\b\b\b\b\r\u001b[1m6/6\u001b[0m \u001b[32m━━━━━━━━━━━━━━━━━━━━\u001b[0m\u001b[37m\u001b[0m \u001b[1m1s\u001b[0m 152ms/step - accuracy: 0.4392 - loss: 3.7410 - precision: 0.0000e+00 - recall: 0.0000e+00 - val_accuracy: 0.4545 - val_loss: 3.6843 - val_precision: 0.0000e+00 - val_recall: 0.0000e+00\n",
            "Epoch 5/50\n",
            "\u001b[1m6/6\u001b[0m \u001b[32m━━━━━━━━━━━━━━━━━━━━\u001b[0m\u001b[37m\u001b[0m \u001b[1m0s\u001b[0m 124ms/step - accuracy: 0.4679 - loss: 3.7143 - precision: 0.0000e+00 - recall: 0.0000e+00"
          ]
        },
        {
          "output_type": "stream",
          "name": "stderr",
          "text": [
            "WARNING:absl:You are saving your model as an HDF5 file via `model.save()` or `keras.saving.save_model(model)`. This file format is considered legacy. We recommend using instead the native Keras format, e.g. `model.save('my_model.keras')` or `keras.saving.save_model(model, 'my_model.keras')`. \n"
          ]
        },
        {
          "output_type": "stream",
          "name": "stdout",
          "text": [
            "\b\b\b\b\b\b\b\b\b\b\b\b\b\b\b\b\b\b\b\b\b\b\b\b\b\b\b\b\b\b\b\b\b\b\b\b\b\b\b\b\b\b\b\b\b\b\b\b\b\b\b\b\b\b\b\b\b\b\b\b\b\b\b\b\b\b\b\b\b\b\b\b\b\b\b\b\b\b\b\b\b\b\b\b\b\b\b\b\b\b\b\b\b\b\b\b\b\b\b\b\b\b\b\b\b\b\b\b\b\b\b\b\b\b\b\b\b\r\u001b[1m6/6\u001b[0m \u001b[32m━━━━━━━━━━━━━━━━━━━━\u001b[0m\u001b[37m\u001b[0m \u001b[1m1s\u001b[0m 159ms/step - accuracy: 0.4725 - loss: 3.7067 - precision: 0.0000e+00 - recall: 0.0000e+00 - val_accuracy: 0.5455 - val_loss: 3.6187 - val_precision: 0.0000e+00 - val_recall: 0.0000e+00\n",
            "Epoch 6/50\n",
            "\u001b[1m6/6\u001b[0m \u001b[32m━━━━━━━━━━━━━━━━━━━━\u001b[0m\u001b[37m\u001b[0m \u001b[1m0s\u001b[0m 126ms/step - accuracy: 0.5425 - loss: 3.5645 - precision: 0.0000e+00 - recall: 0.0000e+00"
          ]
        },
        {
          "output_type": "stream",
          "name": "stderr",
          "text": [
            "WARNING:absl:You are saving your model as an HDF5 file via `model.save()` or `keras.saving.save_model(model)`. This file format is considered legacy. We recommend using instead the native Keras format, e.g. `model.save('my_model.keras')` or `keras.saving.save_model(model, 'my_model.keras')`. \n"
          ]
        },
        {
          "output_type": "stream",
          "name": "stdout",
          "text": [
            "\b\b\b\b\b\b\b\b\b\b\b\b\b\b\b\b\b\b\b\b\b\b\b\b\b\b\b\b\b\b\b\b\b\b\b\b\b\b\b\b\b\b\b\b\b\b\b\b\b\b\b\b\b\b\b\b\b\b\b\b\b\b\b\b\b\b\b\b\b\b\b\b\b\b\b\b\b\b\b\b\b\b\b\b\b\b\b\b\b\b\b\b\b\b\b\b\b\b\b\b\b\b\b\b\b\b\b\b\b\b\b\b\b\b\b\b\b\r\u001b[1m6/6\u001b[0m \u001b[32m━━━━━━━━━━━━━━━━━━━━\u001b[0m\u001b[37m\u001b[0m \u001b[1m1s\u001b[0m 162ms/step - accuracy: 0.5473 - loss: 3.5689 - precision: 0.0000e+00 - recall: 0.0000e+00 - val_accuracy: 0.5909 - val_loss: 3.5540 - val_precision: 0.0000e+00 - val_recall: 0.0000e+00\n",
            "Epoch 7/50\n",
            "\u001b[1m6/6\u001b[0m \u001b[32m━━━━━━━━━━━━━━━━━━━━\u001b[0m\u001b[37m\u001b[0m \u001b[1m0s\u001b[0m 117ms/step - accuracy: 0.6473 - loss: 3.5640 - precision: 0.0000e+00 - recall: 0.0000e+00"
          ]
        },
        {
          "output_type": "stream",
          "name": "stderr",
          "text": [
            "WARNING:absl:You are saving your model as an HDF5 file via `model.save()` or `keras.saving.save_model(model)`. This file format is considered legacy. We recommend using instead the native Keras format, e.g. `model.save('my_model.keras')` or `keras.saving.save_model(model, 'my_model.keras')`. \n"
          ]
        },
        {
          "output_type": "stream",
          "name": "stdout",
          "text": [
            "\b\b\b\b\b\b\b\b\b\b\b\b\b\b\b\b\b\b\b\b\b\b\b\b\b\b\b\b\b\b\b\b\b\b\b\b\b\b\b\b\b\b\b\b\b\b\b\b\b\b\b\b\b\b\b\b\b\b\b\b\b\b\b\b\b\b\b\b\b\b\b\b\b\b\b\b\b\b\b\b\b\b\b\b\b\b\b\b\b\b\b\b\b\b\b\b\b\b\b\b\b\b\b\b\b\b\b\b\b\b\b\b\b\b\b\b\b\r\u001b[1m6/6\u001b[0m \u001b[32m━━━━━━━━━━━━━━━━━━━━\u001b[0m\u001b[37m\u001b[0m \u001b[1m1s\u001b[0m 150ms/step - accuracy: 0.6462 - loss: 3.5587 - precision: 0.0000e+00 - recall: 0.0000e+00 - val_accuracy: 0.5909 - val_loss: 3.4899 - val_precision: 0.0000e+00 - val_recall: 0.0000e+00\n",
            "Epoch 8/50\n",
            "\u001b[1m6/6\u001b[0m \u001b[32m━━━━━━━━━━━━━━━━━━━━\u001b[0m\u001b[37m\u001b[0m \u001b[1m0s\u001b[0m 119ms/step - accuracy: 0.6023 - loss: 3.4543 - precision: 0.0000e+00 - recall: 0.0000e+00"
          ]
        },
        {
          "output_type": "stream",
          "name": "stderr",
          "text": [
            "WARNING:absl:You are saving your model as an HDF5 file via `model.save()` or `keras.saving.save_model(model)`. This file format is considered legacy. We recommend using instead the native Keras format, e.g. `model.save('my_model.keras')` or `keras.saving.save_model(model, 'my_model.keras')`. \n"
          ]
        },
        {
          "output_type": "stream",
          "name": "stdout",
          "text": [
            "\b\b\b\b\b\b\b\b\b\b\b\b\b\b\b\b\b\b\b\b\b\b\b\b\b\b\b\b\b\b\b\b\b\b\b\b\b\b\b\b\b\b\b\b\b\b\b\b\b\b\b\b\b\b\b\b\b\b\b\b\b\b\b\b\b\b\b\b\b\b\b\b\b\b\b\b\b\b\b\b\b\b\b\b\b\b\b\b\b\b\b\b\b\b\b\b\b\b\b\b\b\b\b\b\b\b\b\b\b\b\b\b\b\b\b\b\b\r\u001b[1m6/6\u001b[0m \u001b[32m━━━━━━━━━━━━━━━━━━━━\u001b[0m\u001b[37m\u001b[0m \u001b[1m1s\u001b[0m 154ms/step - accuracy: 0.6026 - loss: 3.4552 - precision: 0.0000e+00 - recall: 0.0000e+00 - val_accuracy: 0.5682 - val_loss: 3.4237 - val_precision: 0.0000e+00 - val_recall: 0.0000e+00\n",
            "Epoch 9/50\n",
            "\u001b[1m6/6\u001b[0m \u001b[32m━━━━━━━━━━━━━━━━━━━━\u001b[0m\u001b[37m\u001b[0m \u001b[1m0s\u001b[0m 122ms/step - accuracy: 0.5846 - loss: 3.4538 - precision: 0.0000e+00 - recall: 0.0000e+00"
          ]
        },
        {
          "output_type": "stream",
          "name": "stderr",
          "text": [
            "WARNING:absl:You are saving your model as an HDF5 file via `model.save()` or `keras.saving.save_model(model)`. This file format is considered legacy. We recommend using instead the native Keras format, e.g. `model.save('my_model.keras')` or `keras.saving.save_model(model, 'my_model.keras')`. \n"
          ]
        },
        {
          "output_type": "stream",
          "name": "stdout",
          "text": [
            "\b\b\b\b\b\b\b\b\b\b\b\b\b\b\b\b\b\b\b\b\b\b\b\b\b\b\b\b\b\b\b\b\b\b\b\b\b\b\b\b\b\b\b\b\b\b\b\b\b\b\b\b\b\b\b\b\b\b\b\b\b\b\b\b\b\b\b\b\b\b\b\b\b\b\b\b\b\b\b\b\b\b\b\b\b\b\b\b\b\b\b\b\b\b\b\b\b\b\b\b\b\b\b\b\b\b\b\b\b\b\b\b\b\b\b\b\b\r\u001b[1m6/6\u001b[0m \u001b[32m━━━━━━━━━━━━━━━━━━━━\u001b[0m\u001b[37m\u001b[0m \u001b[1m1s\u001b[0m 157ms/step - accuracy: 0.5883 - loss: 3.4449 - precision: 0.0000e+00 - recall: 0.0000e+00 - val_accuracy: 0.5682 - val_loss: 3.3541 - val_precision: 0.0000e+00 - val_recall: 0.0000e+00\n",
            "Epoch 10/50\n",
            "\u001b[1m6/6\u001b[0m \u001b[32m━━━━━━━━━━━━━━━━━━━━\u001b[0m\u001b[37m\u001b[0m \u001b[1m0s\u001b[0m 116ms/step - accuracy: 0.6573 - loss: 3.3362 - precision: 0.0000e+00 - recall: 0.0000e+00"
          ]
        },
        {
          "output_type": "stream",
          "name": "stderr",
          "text": [
            "WARNING:absl:You are saving your model as an HDF5 file via `model.save()` or `keras.saving.save_model(model)`. This file format is considered legacy. We recommend using instead the native Keras format, e.g. `model.save('my_model.keras')` or `keras.saving.save_model(model, 'my_model.keras')`. \n"
          ]
        },
        {
          "output_type": "stream",
          "name": "stdout",
          "text": [
            "\b\b\b\b\b\b\b\b\b\b\b\b\b\b\b\b\b\b\b\b\b\b\b\b\b\b\b\b\b\b\b\b\b\b\b\b\b\b\b\b\b\b\b\b\b\b\b\b\b\b\b\b\b\b\b\b\b\b\b\b\b\b\b\b\b\b\b\b\b\b\b\b\b\b\b\b\b\b\b\b\b\b\b\b\b\b\b\b\b\b\b\b\b\b\b\b\b\b\b\b\b\b\b\b\b\b\b\b\b\b\b\b\b\b\b\b\b\r\u001b[1m6/6\u001b[0m \u001b[32m━━━━━━━━━━━━━━━━━━━━\u001b[0m\u001b[37m\u001b[0m \u001b[1m1s\u001b[0m 150ms/step - accuracy: 0.6531 - loss: 3.3316 - precision: 0.0000e+00 - recall: 0.0000e+00 - val_accuracy: 0.5909 - val_loss: 3.2729 - val_precision: 0.0000e+00 - val_recall: 0.0000e+00\n",
            "Epoch 11/50\n",
            "\u001b[1m6/6\u001b[0m \u001b[32m━━━━━━━━━━━━━━━━━━━━\u001b[0m\u001b[37m\u001b[0m \u001b[1m0s\u001b[0m 142ms/step - accuracy: 0.5910 - loss: 3.2399 - precision: 0.0000e+00 - recall: 0.0000e+00"
          ]
        },
        {
          "output_type": "stream",
          "name": "stderr",
          "text": [
            "WARNING:absl:You are saving your model as an HDF5 file via `model.save()` or `keras.saving.save_model(model)`. This file format is considered legacy. We recommend using instead the native Keras format, e.g. `model.save('my_model.keras')` or `keras.saving.save_model(model, 'my_model.keras')`. \n"
          ]
        },
        {
          "output_type": "stream",
          "name": "stdout",
          "text": [
            "\b\b\b\b\b\b\b\b\b\b\b\b\b\b\b\b\b\b\b\b\b\b\b\b\b\b\b\b\b\b\b\b\b\b\b\b\b\b\b\b\b\b\b\b\b\b\b\b\b\b\b\b\b\b\b\b\b\b\b\b\b\b\b\b\b\b\b\b\b\b\b\b\b\b\b\b\b\b\b\b\b\b\b\b\b\b\b\b\b\b\b\b\b\b\b\b\b\b\b\b\b\b\b\b\b\b\b\b\b\b\b\b\b\b\b\b\b\r\u001b[1m6/6\u001b[0m \u001b[32m━━━━━━━━━━━━━━━━━━━━\u001b[0m\u001b[37m\u001b[0m \u001b[1m1s\u001b[0m 190ms/step - accuracy: 0.5879 - loss: 3.2360 - precision: 0.0000e+00 - recall: 0.0000e+00 - val_accuracy: 0.5227 - val_loss: 3.1693 - val_precision: 0.0000e+00 - val_recall: 0.0000e+00\n",
            "Epoch 12/50\n",
            "\u001b[1m6/6\u001b[0m \u001b[32m━━━━━━━━━━━━━━━━━━━━\u001b[0m\u001b[37m\u001b[0m \u001b[1m0s\u001b[0m 222ms/step - accuracy: 0.5406 - loss: 3.1380 - precision: 0.0000e+00 - recall: 0.0000e+00"
          ]
        },
        {
          "output_type": "stream",
          "name": "stderr",
          "text": [
            "WARNING:absl:You are saving your model as an HDF5 file via `model.save()` or `keras.saving.save_model(model)`. This file format is considered legacy. We recommend using instead the native Keras format, e.g. `model.save('my_model.keras')` or `keras.saving.save_model(model, 'my_model.keras')`. \n"
          ]
        },
        {
          "output_type": "stream",
          "name": "stdout",
          "text": [
            "\b\b\b\b\b\b\b\b\b\b\b\b\b\b\b\b\b\b\b\b\b\b\b\b\b\b\b\b\b\b\b\b\b\b\b\b\b\b\b\b\b\b\b\b\b\b\b\b\b\b\b\b\b\b\b\b\b\b\b\b\b\b\b\b\b\b\b\b\b\b\b\b\b\b\b\b\b\b\b\b\b\b\b\b\b\b\b\b\b\b\b\b\b\b\b\b\b\b\b\b\b\b\b\b\b\b\b\b\b\b\b\b\b\b\b\b\b\r\u001b[1m6/6\u001b[0m \u001b[32m━━━━━━━━━━━━━━━━━━━━\u001b[0m\u001b[37m\u001b[0m \u001b[1m2s\u001b[0m 257ms/step - accuracy: 0.5406 - loss: 3.1287 - precision: 0.0000e+00 - recall: 0.0000e+00 - val_accuracy: 0.4318 - val_loss: 3.0298 - val_precision: 0.0000e+00 - val_recall: 0.0000e+00\n",
            "Epoch 13/50\n",
            "\u001b[1m6/6\u001b[0m \u001b[32m━━━━━━━━━━━━━━━━━━━━\u001b[0m\u001b[37m\u001b[0m \u001b[1m0s\u001b[0m 125ms/step - accuracy: 0.5217 - loss: 2.9075 - precision: 0.6667 - recall: 0.0084"
          ]
        },
        {
          "output_type": "stream",
          "name": "stderr",
          "text": [
            "WARNING:absl:You are saving your model as an HDF5 file via `model.save()` or `keras.saving.save_model(model)`. This file format is considered legacy. We recommend using instead the native Keras format, e.g. `model.save('my_model.keras')` or `keras.saving.save_model(model, 'my_model.keras')`. \n"
          ]
        },
        {
          "output_type": "stream",
          "name": "stdout",
          "text": [
            "\b\b\b\b\b\b\b\b\b\b\b\b\b\b\b\b\b\b\b\b\b\b\b\b\b\b\b\b\b\b\b\b\b\b\b\b\b\b\b\b\b\b\b\b\b\b\b\b\b\b\b\b\b\b\b\b\b\b\b\b\b\b\b\b\b\b\b\b\b\b\b\b\b\b\b\b\b\b\b\b\b\b\b\b\b\b\b\b\b\b\b\b\b\b\b\b\b\b\b\b\b\b\b\b\b\b\b\b\b\r\u001b[1m6/6\u001b[0m \u001b[32m━━━━━━━━━━━━━━━━━━━━\u001b[0m\u001b[37m\u001b[0m \u001b[1m1s\u001b[0m 161ms/step - accuracy: 0.5186 - loss: 2.9061 - precision: 0.7143 - recall: 0.0088 - val_accuracy: 0.3864 - val_loss: 2.8382 - val_precision: 1.0000 - val_recall: 0.0227\n",
            "Epoch 14/50\n",
            "\u001b[1m6/6\u001b[0m \u001b[32m━━━━━━━━━━━━━━━━━━━━\u001b[0m\u001b[37m\u001b[0m \u001b[1m0s\u001b[0m 114ms/step - accuracy: 0.3929 - loss: 2.6587 - precision: 0.8333 - recall: 0.0223"
          ]
        },
        {
          "output_type": "stream",
          "name": "stderr",
          "text": [
            "WARNING:absl:You are saving your model as an HDF5 file via `model.save()` or `keras.saving.save_model(model)`. This file format is considered legacy. We recommend using instead the native Keras format, e.g. `model.save('my_model.keras')` or `keras.saving.save_model(model, 'my_model.keras')`. \n"
          ]
        },
        {
          "output_type": "stream",
          "name": "stdout",
          "text": [
            "\b\b\b\b\b\b\b\b\b\b\b\b\b\b\b\b\b\b\b\b\b\b\b\b\b\b\b\b\b\b\b\b\b\b\b\b\b\b\b\b\b\b\b\b\b\b\b\b\b\b\b\b\b\b\b\b\b\b\b\b\b\b\b\b\b\b\b\b\b\b\b\b\b\b\b\b\b\b\b\b\b\b\b\b\b\b\b\b\b\b\b\b\b\b\b\b\b\b\b\b\b\b\b\b\b\b\b\b\b\r\u001b[1m6/6\u001b[0m \u001b[32m━━━━━━━━━━━━━━━━━━━━\u001b[0m\u001b[37m\u001b[0m \u001b[1m1s\u001b[0m 147ms/step - accuracy: 0.4040 - loss: 2.6592 - precision: 0.8571 - recall: 0.0241 - val_accuracy: 0.4318 - val_loss: 2.6150 - val_precision: 1.0000 - val_recall: 0.0455\n",
            "Epoch 15/50\n",
            "\u001b[1m6/6\u001b[0m \u001b[32m━━━━━━━━━━━━━━━━━━━━\u001b[0m\u001b[37m\u001b[0m \u001b[1m0s\u001b[0m 120ms/step - accuracy: 0.5124 - loss: 2.4626 - precision: 0.8333 - recall: 0.0398"
          ]
        },
        {
          "output_type": "stream",
          "name": "stderr",
          "text": [
            "WARNING:absl:You are saving your model as an HDF5 file via `model.save()` or `keras.saving.save_model(model)`. This file format is considered legacy. We recommend using instead the native Keras format, e.g. `model.save('my_model.keras')` or `keras.saving.save_model(model, 'my_model.keras')`. \n"
          ]
        },
        {
          "output_type": "stream",
          "name": "stdout",
          "text": [
            "\b\b\b\b\b\b\b\b\b\b\b\b\b\b\b\b\b\b\b\b\b\b\b\b\b\b\b\b\b\b\b\b\b\b\b\b\b\b\b\b\b\b\b\b\b\b\b\b\b\b\b\b\b\b\b\b\b\b\b\b\b\b\b\b\b\b\b\b\b\b\b\b\b\b\b\b\b\b\b\b\b\b\b\b\b\b\b\b\b\b\b\b\b\b\b\b\b\b\b\b\b\b\b\b\b\b\b\b\b\r\u001b[1m6/6\u001b[0m \u001b[32m━━━━━━━━━━━━━━━━━━━━\u001b[0m\u001b[37m\u001b[0m \u001b[1m1s\u001b[0m 156ms/step - accuracy: 0.5148 - loss: 2.4548 - precision: 0.8571 - recall: 0.0449 - val_accuracy: 0.4545 - val_loss: 2.4121 - val_precision: 1.0000 - val_recall: 0.1364\n",
            "Epoch 16/50\n",
            "\u001b[1m6/6\u001b[0m \u001b[32m━━━━━━━━━━━━━━━━━━━━\u001b[0m\u001b[37m\u001b[0m \u001b[1m0s\u001b[0m 122ms/step - accuracy: 0.6314 - loss: 2.1487 - precision: 0.9829 - recall: 0.2209"
          ]
        },
        {
          "output_type": "stream",
          "name": "stderr",
          "text": [
            "WARNING:absl:You are saving your model as an HDF5 file via `model.save()` or `keras.saving.save_model(model)`. This file format is considered legacy. We recommend using instead the native Keras format, e.g. `model.save('my_model.keras')` or `keras.saving.save_model(model, 'my_model.keras')`. \n"
          ]
        },
        {
          "output_type": "stream",
          "name": "stdout",
          "text": [
            "\b\b\b\b\b\b\b\b\b\b\b\b\b\b\b\b\b\b\b\b\b\b\b\b\b\b\b\b\b\b\b\b\b\b\b\b\b\b\b\b\b\b\b\b\b\b\b\b\b\b\b\b\b\b\b\b\b\b\b\b\b\b\b\b\b\b\b\b\b\b\b\b\b\b\b\b\b\b\b\b\b\b\b\b\b\b\b\b\b\b\b\b\b\b\b\b\b\b\b\b\b\b\b\b\b\b\b\b\b\r\u001b[1m6/6\u001b[0m \u001b[32m━━━━━━━━━━━━━━━━━━━━\u001b[0m\u001b[37m\u001b[0m \u001b[1m1s\u001b[0m 156ms/step - accuracy: 0.6243 - loss: 2.1599 - precision: 0.9813 - recall: 0.2176 - val_accuracy: 0.5000 - val_loss: 2.2058 - val_precision: 0.9167 - val_recall: 0.2500\n",
            "Epoch 17/50\n",
            "\u001b[1m6/6\u001b[0m \u001b[32m━━━━━━━━━━━━━━━━━━━━\u001b[0m\u001b[37m\u001b[0m \u001b[1m0s\u001b[0m 118ms/step - accuracy: 0.6303 - loss: 2.0521 - precision: 0.9428 - recall: 0.3003"
          ]
        },
        {
          "output_type": "stream",
          "name": "stderr",
          "text": [
            "WARNING:absl:You are saving your model as an HDF5 file via `model.save()` or `keras.saving.save_model(model)`. This file format is considered legacy. We recommend using instead the native Keras format, e.g. `model.save('my_model.keras')` or `keras.saving.save_model(model, 'my_model.keras')`. \n"
          ]
        },
        {
          "output_type": "stream",
          "name": "stdout",
          "text": [
            "\b\b\b\b\b\b\b\b\b\b\b\b\b\b\b\b\b\b\b\b\b\b\b\b\b\b\b\b\b\b\b\b\b\b\b\b\b\b\b\b\b\b\b\b\b\b\b\b\b\b\b\b\b\b\b\b\b\b\b\b\b\b\b\b\b\b\b\b\b\b\b\b\b\b\b\b\b\b\b\b\b\b\b\b\b\b\b\b\b\b\b\b\b\b\b\b\b\b\b\b\b\b\b\b\b\b\b\b\b\r\u001b[1m6/6\u001b[0m \u001b[32m━━━━━━━━━━━━━━━━━━━━\u001b[0m\u001b[37m\u001b[0m \u001b[1m1s\u001b[0m 154ms/step - accuracy: 0.6349 - loss: 2.0442 - precision: 0.9455 - recall: 0.2989 - val_accuracy: 0.5455 - val_loss: 2.0278 - val_precision: 0.8750 - val_recall: 0.3182\n",
            "Epoch 18/50\n",
            "\u001b[1m6/6\u001b[0m \u001b[32m━━━━━━━━━━━━━━━━━━━━\u001b[0m\u001b[37m\u001b[0m \u001b[1m0s\u001b[0m 119ms/step - accuracy: 0.7396 - loss: 1.8289 - precision: 0.9331 - recall: 0.3486"
          ]
        },
        {
          "output_type": "stream",
          "name": "stderr",
          "text": [
            "WARNING:absl:You are saving your model as an HDF5 file via `model.save()` or `keras.saving.save_model(model)`. This file format is considered legacy. We recommend using instead the native Keras format, e.g. `model.save('my_model.keras')` or `keras.saving.save_model(model, 'my_model.keras')`. \n"
          ]
        },
        {
          "output_type": "stream",
          "name": "stdout",
          "text": [
            "\b\b\b\b\b\b\b\b\b\b\b\b\b\b\b\b\b\b\b\b\b\b\b\b\b\b\b\b\b\b\b\b\b\b\b\b\b\b\b\b\b\b\b\b\b\b\b\b\b\b\b\b\b\b\b\b\b\b\b\b\b\b\b\b\b\b\b\b\b\b\b\b\b\b\b\b\b\b\b\b\b\b\b\b\b\b\b\b\b\b\b\b\b\b\b\b\b\b\b\b\b\b\b\b\b\b\b\b\b\r\u001b[1m6/6\u001b[0m \u001b[32m━━━━━━━━━━━━━━━━━━━━\u001b[0m\u001b[37m\u001b[0m \u001b[1m1s\u001b[0m 153ms/step - accuracy: 0.7428 - loss: 1.8200 - precision: 0.9380 - recall: 0.3486 - val_accuracy: 0.6591 - val_loss: 1.8387 - val_precision: 0.9375 - val_recall: 0.3409\n",
            "Epoch 19/50\n",
            "\u001b[1m6/6\u001b[0m \u001b[32m━━━━━━━━━━━━━━━━━━━━\u001b[0m\u001b[37m\u001b[0m \u001b[1m0s\u001b[0m 119ms/step - accuracy: 0.8364 - loss: 1.6294 - precision: 0.9822 - recall: 0.3816"
          ]
        },
        {
          "output_type": "stream",
          "name": "stderr",
          "text": [
            "WARNING:absl:You are saving your model as an HDF5 file via `model.save()` or `keras.saving.save_model(model)`. This file format is considered legacy. We recommend using instead the native Keras format, e.g. `model.save('my_model.keras')` or `keras.saving.save_model(model, 'my_model.keras')`. \n"
          ]
        },
        {
          "output_type": "stream",
          "name": "stdout",
          "text": [
            "\b\b\b\b\b\b\b\b\b\b\b\b\b\b\b\b\b\b\b\b\b\b\b\b\b\b\b\b\b\b\b\b\b\b\b\b\b\b\b\b\b\b\b\b\b\b\b\b\b\b\b\b\b\b\b\b\b\b\b\b\b\b\b\b\b\b\b\b\b\b\b\b\b\b\b\b\b\b\b\b\b\b\b\b\b\b\b\b\b\b\b\b\b\b\b\b\b\b\b\b\b\b\b\b\b\b\b\b\b\r\u001b[1m6/6\u001b[0m \u001b[32m━━━━━━━━━━━━━━━━━━━━\u001b[0m\u001b[37m\u001b[0m \u001b[1m1s\u001b[0m 154ms/step - accuracy: 0.8348 - loss: 1.6161 - precision: 0.9788 - recall: 0.3844 - val_accuracy: 0.6818 - val_loss: 1.6409 - val_precision: 0.9444 - val_recall: 0.3864\n",
            "Epoch 20/50\n",
            "\u001b[1m6/6\u001b[0m \u001b[32m━━━━━━━━━━━━━━━━━━━━\u001b[0m\u001b[37m\u001b[0m \u001b[1m0s\u001b[0m 118ms/step - accuracy: 0.8948 - loss: 1.3790 - precision: 1.0000 - recall: 0.5045"
          ]
        },
        {
          "output_type": "stream",
          "name": "stderr",
          "text": [
            "WARNING:absl:You are saving your model as an HDF5 file via `model.save()` or `keras.saving.save_model(model)`. This file format is considered legacy. We recommend using instead the native Keras format, e.g. `model.save('my_model.keras')` or `keras.saving.save_model(model, 'my_model.keras')`. \n"
          ]
        },
        {
          "output_type": "stream",
          "name": "stdout",
          "text": [
            "\b\b\b\b\b\b\b\b\b\b\b\b\b\b\b\b\b\b\b\b\b\b\b\b\b\b\b\b\b\b\b\b\b\b\b\b\b\b\b\b\b\b\b\b\b\b\b\b\b\b\b\b\b\b\b\b\b\b\b\b\b\b\b\b\b\b\b\b\b\b\b\b\b\b\b\b\b\b\b\b\b\b\b\b\b\b\b\b\b\b\b\b\b\b\b\b\b\b\b\b\b\b\b\b\b\b\b\b\b\r\u001b[1m6/6\u001b[0m \u001b[32m━━━━━━━━━━━━━━━━━━━━\u001b[0m\u001b[37m\u001b[0m \u001b[1m1s\u001b[0m 151ms/step - accuracy: 0.8957 - loss: 1.3730 - precision: 1.0000 - recall: 0.5063 - val_accuracy: 0.7500 - val_loss: 1.4468 - val_precision: 0.9524 - val_recall: 0.4545\n",
            "Epoch 21/50\n",
            "\u001b[1m6/6\u001b[0m \u001b[32m━━━━━━━━━━━━━━━━━━━━\u001b[0m\u001b[37m\u001b[0m \u001b[1m0s\u001b[0m 178ms/step - accuracy: 0.9277 - loss: 1.0892 - precision: 0.9685 - recall: 0.6272"
          ]
        },
        {
          "output_type": "stream",
          "name": "stderr",
          "text": [
            "WARNING:absl:You are saving your model as an HDF5 file via `model.save()` or `keras.saving.save_model(model)`. This file format is considered legacy. We recommend using instead the native Keras format, e.g. `model.save('my_model.keras')` or `keras.saving.save_model(model, 'my_model.keras')`. \n"
          ]
        },
        {
          "output_type": "stream",
          "name": "stdout",
          "text": [
            "\b\b\b\b\b\b\b\b\b\b\b\b\b\b\b\b\b\b\b\b\b\b\b\b\b\b\b\b\b\b\b\b\b\b\b\b\b\b\b\b\b\b\b\b\b\b\b\b\b\b\b\b\b\b\b\b\b\b\b\b\b\b\b\b\b\b\b\b\b\b\b\b\b\b\b\b\b\b\b\b\b\b\b\b\b\b\b\b\b\b\b\b\b\b\b\b\b\b\b\b\b\b\b\b\b\b\b\b\b\r\u001b[1m6/6\u001b[0m \u001b[32m━━━━━━━━━━━━━━━━━━━━\u001b[0m\u001b[37m\u001b[0m \u001b[1m2s\u001b[0m 237ms/step - accuracy: 0.9305 - loss: 1.0890 - precision: 0.9704 - recall: 0.6290 - val_accuracy: 0.8864 - val_loss: 1.3233 - val_precision: 0.9643 - val_recall: 0.6136\n",
            "Epoch 22/50\n",
            "\u001b[1m6/6\u001b[0m \u001b[32m━━━━━━━━━━━━━━━━━━━━\u001b[0m\u001b[37m\u001b[0m \u001b[1m0s\u001b[0m 205ms/step - accuracy: 0.9337 - loss: 1.0161 - precision: 0.9711 - recall: 0.7127"
          ]
        },
        {
          "output_type": "stream",
          "name": "stderr",
          "text": [
            "WARNING:absl:You are saving your model as an HDF5 file via `model.save()` or `keras.saving.save_model(model)`. This file format is considered legacy. We recommend using instead the native Keras format, e.g. `model.save('my_model.keras')` or `keras.saving.save_model(model, 'my_model.keras')`. \n"
          ]
        },
        {
          "output_type": "stream",
          "name": "stdout",
          "text": [
            "\b\b\b\b\b\b\b\b\b\b\b\b\b\b\b\b\b\b\b\b\b\b\b\b\b\b\b\b\b\b\b\b\b\b\b\b\b\b\b\b\b\b\b\b\b\b\b\b\b\b\b\b\b\b\b\b\b\b\b\b\b\b\b\b\b\b\b\b\b\b\b\b\b\b\b\b\b\b\b\b\b\b\b\b\b\b\b\b\b\b\b\b\b\b\b\b\b\b\b\b\b\b\b\b\b\b\b\b\b\r\u001b[1m6/6\u001b[0m \u001b[32m━━━━━━━━━━━━━━━━━━━━\u001b[0m\u001b[37m\u001b[0m \u001b[1m1s\u001b[0m 237ms/step - accuracy: 0.9357 - loss: 1.0123 - precision: 0.9719 - recall: 0.7147 - val_accuracy: 0.8864 - val_loss: 1.2175 - val_precision: 0.9677 - val_recall: 0.6818\n",
            "Epoch 23/50\n",
            "\u001b[1m6/6\u001b[0m \u001b[32m━━━━━━━━━━━━━━━━━━━━\u001b[0m\u001b[37m\u001b[0m \u001b[1m0s\u001b[0m 160ms/step - accuracy: 0.9692 - loss: 0.8420 - precision: 0.9847 - recall: 0.8486"
          ]
        },
        {
          "output_type": "stream",
          "name": "stderr",
          "text": [
            "WARNING:absl:You are saving your model as an HDF5 file via `model.save()` or `keras.saving.save_model(model)`. This file format is considered legacy. We recommend using instead the native Keras format, e.g. `model.save('my_model.keras')` or `keras.saving.save_model(model, 'my_model.keras')`. \n"
          ]
        },
        {
          "output_type": "stream",
          "name": "stdout",
          "text": [
            "\b\b\b\b\b\b\b\b\b\b\b\b\b\b\b\b\b\b\b\b\b\b\b\b\b\b\b\b\b\b\b\b\b\b\b\b\b\b\b\b\b\b\b\b\b\b\b\b\b\b\b\b\b\b\b\b\b\b\b\b\b\b\b\b\b\b\b\b\b\b\b\b\b\b\b\b\b\b\b\b\b\b\b\b\b\b\b\b\b\b\b\b\b\b\b\b\b\b\b\b\b\b\b\b\b\b\b\b\b\r\u001b[1m6/6\u001b[0m \u001b[32m━━━━━━━━━━━━━━━━━━━━\u001b[0m\u001b[37m\u001b[0m \u001b[1m1s\u001b[0m 195ms/step - accuracy: 0.9711 - loss: 0.8385 - precision: 0.9860 - recall: 0.8528 - val_accuracy: 0.8864 - val_loss: 1.1135 - val_precision: 0.9706 - val_recall: 0.7500\n",
            "Epoch 24/50\n",
            "\u001b[1m6/6\u001b[0m \u001b[32m━━━━━━━━━━━━━━━━━━━━\u001b[0m\u001b[37m\u001b[0m \u001b[1m0s\u001b[0m 151ms/step - accuracy: 0.9796 - loss: 0.7502 - precision: 0.9860 - recall: 0.9064"
          ]
        },
        {
          "output_type": "stream",
          "name": "stderr",
          "text": [
            "WARNING:absl:You are saving your model as an HDF5 file via `model.save()` or `keras.saving.save_model(model)`. This file format is considered legacy. We recommend using instead the native Keras format, e.g. `model.save('my_model.keras')` or `keras.saving.save_model(model, 'my_model.keras')`. \n"
          ]
        },
        {
          "output_type": "stream",
          "name": "stdout",
          "text": [
            "\b\b\b\b\b\b\b\b\b\b\b\b\b\b\b\b\b\b\b\b\b\b\b\b\b\b\b\b\b\b\b\b\b\b\b\b\b\b\b\b\b\b\b\b\b\b\b\b\b\b\b\b\b\b\b\b\b\b\b\b\b\b\b\b\b\b\b\b\b\b\b\b\b\b\b\b\b\b\b\b\b\b\b\b\b\b\b\b\b\b\b\b\b\b\b\b\b\b\b\b\b\b\b\b\b\b\b\b\b\r\u001b[1m6/6\u001b[0m \u001b[32m━━━━━━━━━━━━━━━━━━━━\u001b[0m\u001b[37m\u001b[0m \u001b[1m1s\u001b[0m 199ms/step - accuracy: 0.9801 - loss: 0.7508 - precision: 0.9862 - recall: 0.9065 - val_accuracy: 0.8864 - val_loss: 1.0451 - val_precision: 0.9444 - val_recall: 0.7727\n",
            "Epoch 25/50\n",
            "\u001b[1m6/6\u001b[0m \u001b[32m━━━━━━━━━━━━━━━━━━━━\u001b[0m\u001b[37m\u001b[0m \u001b[1m0s\u001b[0m 120ms/step - accuracy: 0.9870 - loss: 0.6976 - precision: 0.9965 - recall: 0.9548"
          ]
        },
        {
          "output_type": "stream",
          "name": "stderr",
          "text": [
            "WARNING:absl:You are saving your model as an HDF5 file via `model.save()` or `keras.saving.save_model(model)`. This file format is considered legacy. We recommend using instead the native Keras format, e.g. `model.save('my_model.keras')` or `keras.saving.save_model(model, 'my_model.keras')`. \n"
          ]
        },
        {
          "output_type": "stream",
          "name": "stdout",
          "text": [
            "\b\b\b\b\b\b\b\b\b\b\b\b\b\b\b\b\b\b\b\b\b\b\b\b\b\b\b\b\b\b\b\b\b\b\b\b\b\b\b\b\b\b\b\b\b\b\b\b\b\b\b\b\b\b\b\b\b\b\b\b\b\b\b\b\b\b\b\b\b\b\b\b\b\b\b\b\b\b\b\b\b\b\b\b\b\b\b\b\b\b\b\b\b\b\b\b\b\b\b\b\b\b\b\b\b\b\b\b\b\r\u001b[1m6/6\u001b[0m \u001b[32m━━━━━━━━━━━━━━━━━━━━\u001b[0m\u001b[37m\u001b[0m \u001b[1m2s\u001b[0m 155ms/step - accuracy: 0.9864 - loss: 0.6962 - precision: 0.9962 - recall: 0.9546 - val_accuracy: 0.8864 - val_loss: 0.9906 - val_precision: 0.9459 - val_recall: 0.7955\n",
            "Epoch 26/50\n",
            "\u001b[1m6/6\u001b[0m \u001b[32m━━━━━━━━━━━━━━━━━━━━\u001b[0m\u001b[37m\u001b[0m \u001b[1m0s\u001b[0m 116ms/step - accuracy: 1.0000 - loss: 0.6497 - precision: 1.0000 - recall: 0.9693"
          ]
        },
        {
          "output_type": "stream",
          "name": "stderr",
          "text": [
            "WARNING:absl:You are saving your model as an HDF5 file via `model.save()` or `keras.saving.save_model(model)`. This file format is considered legacy. We recommend using instead the native Keras format, e.g. `model.save('my_model.keras')` or `keras.saving.save_model(model, 'my_model.keras')`. \n"
          ]
        },
        {
          "output_type": "stream",
          "name": "stdout",
          "text": [
            "\b\b\b\b\b\b\b\b\b\b\b\b\b\b\b\b\b\b\b\b\b\b\b\b\b\b\b\b\b\b\b\b\b\b\b\b\b\b\b\b\b\b\b\b\b\b\b\b\b\b\b\b\b\b\b\b\b\b\b\b\b\b\b\b\b\b\b\b\b\b\b\b\b\b\b\b\b\b\b\b\b\b\b\b\b\b\b\b\b\b\b\b\b\b\b\b\b\b\b\b\b\b\b\b\b\b\b\b\b\r\u001b[1m6/6\u001b[0m \u001b[32m━━━━━━━━━━━━━━━━━━━━\u001b[0m\u001b[37m\u001b[0m \u001b[1m1s\u001b[0m 151ms/step - accuracy: 1.0000 - loss: 0.6484 - precision: 1.0000 - recall: 0.9687 - val_accuracy: 0.8864 - val_loss: 0.9619 - val_precision: 0.9231 - val_recall: 0.8182\n",
            "Epoch 27/50\n",
            "\u001b[1m6/6\u001b[0m \u001b[32m━━━━━━━━━━━━━━━━━━━━\u001b[0m\u001b[37m\u001b[0m \u001b[1m1s\u001b[0m 132ms/step - accuracy: 1.0000 - loss: 0.5977 - precision: 1.0000 - recall: 0.9804 - val_accuracy: 0.8636 - val_loss: 0.9656 - val_precision: 0.9231 - val_recall: 0.8182\n",
            "Epoch 28/50\n",
            "\u001b[1m6/6\u001b[0m \u001b[32m━━━━━━━━━━━━━━━━━━━━\u001b[0m\u001b[37m\u001b[0m \u001b[1m1s\u001b[0m 140ms/step - accuracy: 1.0000 - loss: 0.5772 - precision: 1.0000 - recall: 0.9963 - val_accuracy: 0.8636 - val_loss: 0.9697 - val_precision: 0.9231 - val_recall: 0.8182\n",
            "Epoch 29/50\n",
            "\u001b[1m6/6\u001b[0m \u001b[32m━━━━━━━━━━━━━━━━━━━━\u001b[0m\u001b[37m\u001b[0m \u001b[1m1s\u001b[0m 138ms/step - accuracy: 1.0000 - loss: 0.5542 - precision: 1.0000 - recall: 0.9926 - val_accuracy: 0.8864 - val_loss: 0.9680 - val_precision: 0.9231 - val_recall: 0.8182\n",
            "Epoch 30/50\n",
            "\u001b[1m6/6\u001b[0m \u001b[32m━━━━━━━━━━━━━━━━━━━━\u001b[0m\u001b[37m\u001b[0m \u001b[1m0s\u001b[0m 116ms/step - accuracy: 0.9929 - loss: 0.5216 - precision: 0.9980 - recall: 0.9929"
          ]
        },
        {
          "output_type": "stream",
          "name": "stderr",
          "text": [
            "WARNING:absl:You are saving your model as an HDF5 file via `model.save()` or `keras.saving.save_model(model)`. This file format is considered legacy. We recommend using instead the native Keras format, e.g. `model.save('my_model.keras')` or `keras.saving.save_model(model, 'my_model.keras')`. \n"
          ]
        },
        {
          "output_type": "stream",
          "name": "stdout",
          "text": [
            "\b\b\b\b\b\b\b\b\b\b\b\b\b\b\b\b\b\b\b\b\b\b\b\b\b\b\b\b\b\b\b\b\b\b\b\b\b\b\b\b\b\b\b\b\b\b\b\b\b\b\b\b\b\b\b\b\b\b\b\b\b\b\b\b\b\b\b\b\b\b\b\b\b\b\b\b\b\b\b\b\b\b\b\b\b\b\b\b\b\b\b\b\b\b\b\b\b\b\b\b\b\b\b\b\b\b\b\b\b\r\u001b[1m6/6\u001b[0m \u001b[32m━━━━━━━━━━━━━━━━━━━━\u001b[0m\u001b[37m\u001b[0m \u001b[1m1s\u001b[0m 153ms/step - accuracy: 0.9923 - loss: 0.5223 - precision: 0.9974 - recall: 0.9923 - val_accuracy: 0.8864 - val_loss: 0.9521 - val_precision: 0.9231 - val_recall: 0.8182\n",
            "Epoch 31/50\n",
            "\u001b[1m6/6\u001b[0m \u001b[32m━━━━━━━━━━━━━━━━━━━━\u001b[0m\u001b[37m\u001b[0m \u001b[1m0s\u001b[0m 222ms/step - accuracy: 1.0000 - loss: 0.4977 - precision: 1.0000 - recall: 1.0000"
          ]
        },
        {
          "output_type": "stream",
          "name": "stderr",
          "text": [
            "WARNING:absl:You are saving your model as an HDF5 file via `model.save()` or `keras.saving.save_model(model)`. This file format is considered legacy. We recommend using instead the native Keras format, e.g. `model.save('my_model.keras')` or `keras.saving.save_model(model, 'my_model.keras')`. \n"
          ]
        },
        {
          "output_type": "stream",
          "name": "stdout",
          "text": [
            "\b\b\b\b\b\b\b\b\b\b\b\b\b\b\b\b\b\b\b\b\b\b\b\b\b\b\b\b\b\b\b\b\b\b\b\b\b\b\b\b\b\b\b\b\b\b\b\b\b\b\b\b\b\b\b\b\b\b\b\b\b\b\b\b\b\b\b\b\b\b\b\b\b\b\b\b\b\b\b\b\b\b\b\b\b\b\b\b\b\b\b\b\b\b\b\b\b\b\b\b\b\b\b\b\b\b\b\b\b\r\u001b[1m6/6\u001b[0m \u001b[32m━━━━━━━━━━━━━━━━━━━━\u001b[0m\u001b[37m\u001b[0m \u001b[1m2s\u001b[0m 282ms/step - accuracy: 1.0000 - loss: 0.4986 - precision: 1.0000 - recall: 1.0000 - val_accuracy: 0.8864 - val_loss: 0.9066 - val_precision: 0.9231 - val_recall: 0.8182\n",
            "Epoch 32/50\n",
            "\u001b[1m6/6\u001b[0m \u001b[32m━━━━━━━━━━━━━━━━━━━━\u001b[0m\u001b[37m\u001b[0m \u001b[1m0s\u001b[0m 117ms/step - accuracy: 1.0000 - loss: 0.4878 - precision: 1.0000 - recall: 1.0000"
          ]
        },
        {
          "output_type": "stream",
          "name": "stderr",
          "text": [
            "WARNING:absl:You are saving your model as an HDF5 file via `model.save()` or `keras.saving.save_model(model)`. This file format is considered legacy. We recommend using instead the native Keras format, e.g. `model.save('my_model.keras')` or `keras.saving.save_model(model, 'my_model.keras')`. \n"
          ]
        },
        {
          "output_type": "stream",
          "name": "stdout",
          "text": [
            "\b\b\b\b\b\b\b\b\b\b\b\b\b\b\b\b\b\b\b\b\b\b\b\b\b\b\b\b\b\b\b\b\b\b\b\b\b\b\b\b\b\b\b\b\b\b\b\b\b\b\b\b\b\b\b\b\b\b\b\b\b\b\b\b\b\b\b\b\b\b\b\b\b\b\b\b\b\b\b\b\b\b\b\b\b\b\b\b\b\b\b\b\b\b\b\b\b\b\b\b\b\b\b\b\b\b\b\b\b\r\u001b[1m6/6\u001b[0m \u001b[32m━━━━━━━━━━━━━━━━━━━━\u001b[0m\u001b[37m\u001b[0m \u001b[1m2s\u001b[0m 152ms/step - accuracy: 1.0000 - loss: 0.4875 - precision: 1.0000 - recall: 1.0000 - val_accuracy: 0.8864 - val_loss: 0.8791 - val_precision: 0.9211 - val_recall: 0.7955\n",
            "Epoch 33/50\n",
            "\u001b[1m6/6\u001b[0m \u001b[32m━━━━━━━━━━━━━━━━━━━━\u001b[0m\u001b[37m\u001b[0m \u001b[1m0s\u001b[0m 118ms/step - accuracy: 1.0000 - loss: 0.4874 - precision: 1.0000 - recall: 0.9967"
          ]
        },
        {
          "output_type": "stream",
          "name": "stderr",
          "text": [
            "WARNING:absl:You are saving your model as an HDF5 file via `model.save()` or `keras.saving.save_model(model)`. This file format is considered legacy. We recommend using instead the native Keras format, e.g. `model.save('my_model.keras')` or `keras.saving.save_model(model, 'my_model.keras')`. \n"
          ]
        },
        {
          "output_type": "stream",
          "name": "stdout",
          "text": [
            "\b\b\b\b\b\b\b\b\b\b\b\b\b\b\b\b\b\b\b\b\b\b\b\b\b\b\b\b\b\b\b\b\b\b\b\b\b\b\b\b\b\b\b\b\b\b\b\b\b\b\b\b\b\b\b\b\b\b\b\b\b\b\b\b\b\b\b\b\b\b\b\b\b\b\b\b\b\b\b\b\b\b\b\b\b\b\b\b\b\b\b\b\b\b\b\b\b\b\b\b\b\b\b\b\b\b\b\b\b\r\u001b[1m6/6\u001b[0m \u001b[32m━━━━━━━━━━━━━━━━━━━━\u001b[0m\u001b[37m\u001b[0m \u001b[1m1s\u001b[0m 152ms/step - accuracy: 1.0000 - loss: 0.4879 - precision: 1.0000 - recall: 0.9963 - val_accuracy: 0.8636 - val_loss: 0.8533 - val_precision: 0.8974 - val_recall: 0.7955\n",
            "Epoch 34/50\n",
            "\u001b[1m6/6\u001b[0m \u001b[32m━━━━━━━━━━━━━━━━━━━━\u001b[0m\u001b[37m\u001b[0m \u001b[1m0s\u001b[0m 119ms/step - accuracy: 1.0000 - loss: 0.4575 - precision: 1.0000 - recall: 0.9967"
          ]
        },
        {
          "output_type": "stream",
          "name": "stderr",
          "text": [
            "WARNING:absl:You are saving your model as an HDF5 file via `model.save()` or `keras.saving.save_model(model)`. This file format is considered legacy. We recommend using instead the native Keras format, e.g. `model.save('my_model.keras')` or `keras.saving.save_model(model, 'my_model.keras')`. \n"
          ]
        },
        {
          "output_type": "stream",
          "name": "stdout",
          "text": [
            "\b\b\b\b\b\b\b\b\b\b\b\b\b\b\b\b\b\b\b\b\b\b\b\b\b\b\b\b\b\b\b\b\b\b\b\b\b\b\b\b\b\b\b\b\b\b\b\b\b\b\b\b\b\b\b\b\b\b\b\b\b\b\b\b\b\b\b\b\b\b\b\b\b\b\b\b\b\b\b\b\b\b\b\b\b\b\b\b\b\b\b\b\b\b\b\b\b\b\b\b\b\b\b\b\b\b\b\b\b\r\u001b[1m6/6\u001b[0m \u001b[32m━━━━━━━━━━━━━━━━━━━━\u001b[0m\u001b[37m\u001b[0m \u001b[1m1s\u001b[0m 153ms/step - accuracy: 1.0000 - loss: 0.4580 - precision: 1.0000 - recall: 0.9963 - val_accuracy: 0.8636 - val_loss: 0.8489 - val_precision: 0.9000 - val_recall: 0.8182\n",
            "Epoch 35/50\n",
            "\u001b[1m6/6\u001b[0m \u001b[32m━━━━━━━━━━━━━━━━━━━━\u001b[0m\u001b[37m\u001b[0m \u001b[1m1s\u001b[0m 140ms/step - accuracy: 1.0000 - loss: 0.4644 - precision: 1.0000 - recall: 1.0000 - val_accuracy: 0.8636 - val_loss: 0.8504 - val_precision: 0.9000 - val_recall: 0.8182\n",
            "Epoch 36/50\n",
            "\u001b[1m6/6\u001b[0m \u001b[32m━━━━━━━━━━━━━━━━━━━━\u001b[0m\u001b[37m\u001b[0m \u001b[1m0s\u001b[0m 118ms/step - accuracy: 1.0000 - loss: 0.4386 - precision: 1.0000 - recall: 1.0000"
          ]
        },
        {
          "output_type": "stream",
          "name": "stderr",
          "text": [
            "WARNING:absl:You are saving your model as an HDF5 file via `model.save()` or `keras.saving.save_model(model)`. This file format is considered legacy. We recommend using instead the native Keras format, e.g. `model.save('my_model.keras')` or `keras.saving.save_model(model, 'my_model.keras')`. \n"
          ]
        },
        {
          "output_type": "stream",
          "name": "stdout",
          "text": [
            "\b\b\b\b\b\b\b\b\b\b\b\b\b\b\b\b\b\b\b\b\b\b\b\b\b\b\b\b\b\b\b\b\b\b\b\b\b\b\b\b\b\b\b\b\b\b\b\b\b\b\b\b\b\b\b\b\b\b\b\b\b\b\b\b\b\b\b\b\b\b\b\b\b\b\b\b\b\b\b\b\b\b\b\b\b\b\b\b\b\b\b\b\b\b\b\b\b\b\b\b\b\b\b\b\b\b\b\b\b\r\u001b[1m6/6\u001b[0m \u001b[32m━━━━━━━━━━━━━━━━━━━━\u001b[0m\u001b[37m\u001b[0m \u001b[1m1s\u001b[0m 151ms/step - accuracy: 1.0000 - loss: 0.4380 - precision: 1.0000 - recall: 1.0000 - val_accuracy: 0.8636 - val_loss: 0.8455 - val_precision: 0.9000 - val_recall: 0.8182\n",
            "Epoch 37/50\n",
            "\u001b[1m6/6\u001b[0m \u001b[32m━━━━━━━━━━━━━━━━━━━━\u001b[0m\u001b[37m\u001b[0m \u001b[1m0s\u001b[0m 125ms/step - accuracy: 1.0000 - loss: 0.4210 - precision: 1.0000 - recall: 1.0000"
          ]
        },
        {
          "output_type": "stream",
          "name": "stderr",
          "text": [
            "WARNING:absl:You are saving your model as an HDF5 file via `model.save()` or `keras.saving.save_model(model)`. This file format is considered legacy. We recommend using instead the native Keras format, e.g. `model.save('my_model.keras')` or `keras.saving.save_model(model, 'my_model.keras')`. \n"
          ]
        },
        {
          "output_type": "stream",
          "name": "stdout",
          "text": [
            "\b\b\b\b\b\b\b\b\b\b\b\b\b\b\b\b\b\b\b\b\b\b\b\b\b\b\b\b\b\b\b\b\b\b\b\b\b\b\b\b\b\b\b\b\b\b\b\b\b\b\b\b\b\b\b\b\b\b\b\b\b\b\b\b\b\b\b\b\b\b\b\b\b\b\b\b\b\b\b\b\b\b\b\b\b\b\b\b\b\b\b\b\b\b\b\b\b\b\b\b\b\b\b\b\b\b\b\b\b\r\u001b[1m6/6\u001b[0m \u001b[32m━━━━━━━━━━━━━━━━━━━━\u001b[0m\u001b[37m\u001b[0m \u001b[1m1s\u001b[0m 159ms/step - accuracy: 1.0000 - loss: 0.4211 - precision: 1.0000 - recall: 1.0000 - val_accuracy: 0.8864 - val_loss: 0.8189 - val_precision: 0.9459 - val_recall: 0.7955\n",
            "Epoch 38/50\n",
            "\u001b[1m6/6\u001b[0m \u001b[32m━━━━━━━━━━━━━━━━━━━━\u001b[0m\u001b[37m\u001b[0m \u001b[1m0s\u001b[0m 116ms/step - accuracy: 1.0000 - loss: 0.4281 - precision: 1.0000 - recall: 1.0000"
          ]
        },
        {
          "output_type": "stream",
          "name": "stderr",
          "text": [
            "WARNING:absl:You are saving your model as an HDF5 file via `model.save()` or `keras.saving.save_model(model)`. This file format is considered legacy. We recommend using instead the native Keras format, e.g. `model.save('my_model.keras')` or `keras.saving.save_model(model, 'my_model.keras')`. \n"
          ]
        },
        {
          "output_type": "stream",
          "name": "stdout",
          "text": [
            "\b\b\b\b\b\b\b\b\b\b\b\b\b\b\b\b\b\b\b\b\b\b\b\b\b\b\b\b\b\b\b\b\b\b\b\b\b\b\b\b\b\b\b\b\b\b\b\b\b\b\b\b\b\b\b\b\b\b\b\b\b\b\b\b\b\b\b\b\b\b\b\b\b\b\b\b\b\b\b\b\b\b\b\b\b\b\b\b\b\b\b\b\b\b\b\b\b\b\b\b\b\b\b\b\b\b\b\b\b\r\u001b[1m6/6\u001b[0m \u001b[32m━━━━━━━━━━━━━━━━━━━━\u001b[0m\u001b[37m\u001b[0m \u001b[1m1s\u001b[0m 152ms/step - accuracy: 1.0000 - loss: 0.4267 - precision: 1.0000 - recall: 1.0000 - val_accuracy: 0.8864 - val_loss: 0.7968 - val_precision: 0.9250 - val_recall: 0.8409\n",
            "Epoch 39/50\n",
            "\u001b[1m6/6\u001b[0m \u001b[32m━━━━━━━━━━━━━━━━━━━━\u001b[0m\u001b[37m\u001b[0m \u001b[1m0s\u001b[0m 119ms/step - accuracy: 1.0000 - loss: 0.3895 - precision: 1.0000 - recall: 1.0000"
          ]
        },
        {
          "output_type": "stream",
          "name": "stderr",
          "text": [
            "WARNING:absl:You are saving your model as an HDF5 file via `model.save()` or `keras.saving.save_model(model)`. This file format is considered legacy. We recommend using instead the native Keras format, e.g. `model.save('my_model.keras')` or `keras.saving.save_model(model, 'my_model.keras')`. \n"
          ]
        },
        {
          "output_type": "stream",
          "name": "stdout",
          "text": [
            "\b\b\b\b\b\b\b\b\b\b\b\b\b\b\b\b\b\b\b\b\b\b\b\b\b\b\b\b\b\b\b\b\b\b\b\b\b\b\b\b\b\b\b\b\b\b\b\b\b\b\b\b\b\b\b\b\b\b\b\b\b\b\b\b\b\b\b\b\b\b\b\b\b\b\b\b\b\b\b\b\b\b\b\b\b\b\b\b\b\b\b\b\b\b\b\b\b\b\b\b\b\b\b\b\b\b\b\b\b\r\u001b[1m6/6\u001b[0m \u001b[32m━━━━━━━━━━━━━━━━━━━━\u001b[0m\u001b[37m\u001b[0m \u001b[1m1s\u001b[0m 152ms/step - accuracy: 1.0000 - loss: 0.3899 - precision: 1.0000 - recall: 1.0000 - val_accuracy: 0.8864 - val_loss: 0.7846 - val_precision: 0.9250 - val_recall: 0.8409\n",
            "Epoch 40/50\n",
            "\u001b[1m6/6\u001b[0m \u001b[32m━━━━━━━━━━━━━━━━━━━━\u001b[0m\u001b[37m\u001b[0m \u001b[1m0s\u001b[0m 166ms/step - accuracy: 1.0000 - loss: 0.3929 - precision: 1.0000 - recall: 1.0000"
          ]
        },
        {
          "output_type": "stream",
          "name": "stderr",
          "text": [
            "WARNING:absl:You are saving your model as an HDF5 file via `model.save()` or `keras.saving.save_model(model)`. This file format is considered legacy. We recommend using instead the native Keras format, e.g. `model.save('my_model.keras')` or `keras.saving.save_model(model, 'my_model.keras')`. \n"
          ]
        },
        {
          "output_type": "stream",
          "name": "stdout",
          "text": [
            "\b\b\b\b\b\b\b\b\b\b\b\b\b\b\b\b\b\b\b\b\b\b\b\b\b\b\b\b\b\b\b\b\b\b\b\b\b\b\b\b\b\b\b\b\b\b\b\b\b\b\b\b\b\b\b\b\b\b\b\b\b\b\b\b\b\b\b\b\b\b\b\b\b\b\b\b\b\b\b\b\b\b\b\b\b\b\b\b\b\b\b\b\b\b\b\b\b\b\b\b\b\b\b\b\b\b\b\b\b\r\u001b[1m6/6\u001b[0m \u001b[32m━━━━━━━━━━━━━━━━━━━━\u001b[0m\u001b[37m\u001b[0m \u001b[1m1s\u001b[0m 229ms/step - accuracy: 1.0000 - loss: 0.3922 - precision: 1.0000 - recall: 1.0000 - val_accuracy: 0.8636 - val_loss: 0.7829 - val_precision: 0.9024 - val_recall: 0.8409\n",
            "Epoch 41/50\n",
            "\u001b[1m6/6\u001b[0m \u001b[32m━━━━━━━━━━━━━━━━━━━━\u001b[0m\u001b[37m\u001b[0m \u001b[1m1s\u001b[0m 233ms/step - accuracy: 1.0000 - loss: 0.3739 - precision: 1.0000 - recall: 1.0000 - val_accuracy: 0.8636 - val_loss: 0.7883 - val_precision: 0.9000 - val_recall: 0.8182\n",
            "Epoch 42/50\n",
            "\u001b[1m6/6\u001b[0m \u001b[32m━━━━━━━━━━━━━━━━━━━━\u001b[0m\u001b[37m\u001b[0m \u001b[1m2s\u001b[0m 136ms/step - accuracy: 1.0000 - loss: 0.3707 - precision: 1.0000 - recall: 1.0000 - val_accuracy: 0.8864 - val_loss: 0.7970 - val_precision: 0.8780 - val_recall: 0.8182\n",
            "Epoch 43/50\n",
            "\u001b[1m6/6\u001b[0m \u001b[32m━━━━━━━━━━━━━━━━━━━━\u001b[0m\u001b[37m\u001b[0m \u001b[1m1s\u001b[0m 142ms/step - accuracy: 1.0000 - loss: 0.3551 - precision: 1.0000 - recall: 1.0000 - val_accuracy: 0.8636 - val_loss: 0.7884 - val_precision: 0.8780 - val_recall: 0.8182\n",
            "Epoch 44/50\n",
            "\u001b[1m6/6\u001b[0m \u001b[32m━━━━━━━━━━━━━━━━━━━━\u001b[0m\u001b[37m\u001b[0m \u001b[1m1s\u001b[0m 135ms/step - accuracy: 1.0000 - loss: 0.3485 - precision: 1.0000 - recall: 1.0000 - val_accuracy: 0.8864 - val_loss: 0.7993 - val_precision: 0.8810 - val_recall: 0.8409\n",
            "Epoch 45/50\n",
            "\u001b[1m6/6\u001b[0m \u001b[32m━━━━━━━━━━━━━━━━━━━━\u001b[0m\u001b[37m\u001b[0m \u001b[1m2s\u001b[0m 255ms/step - accuracy: 1.0000 - loss: 0.3446 - precision: 1.0000 - recall: 1.0000 - val_accuracy: 0.8864 - val_loss: 0.7945 - val_precision: 0.9024 - val_recall: 0.8409\n"
          ]
        },
        {
          "output_type": "stream",
          "name": "stderr",
          "text": [
            "WARNING:absl:Compiled the loaded model, but the compiled metrics have yet to be built. `model.compile_metrics` will be empty until you train or evaluate the model.\n"
          ]
        },
        {
          "output_type": "stream",
          "name": "stdout",
          "text": [
            "\n",
            "Bilingual Test Predictions:\n",
            "\n",
            "Original: Gaji bulan Desember dari kantor\n",
            "Processed: gaji bulan desember dari kantor\n",
            "Prediction: Salary (Confidence: 94.58%)\n",
            "Details:\n",
            "- Salary: 94.58%\n",
            "\n",
            "Original: Monthly salary from employer\n",
            "Processed: monthly gaji from employer\n",
            "Prediction: Salary (Confidence: 97.89%)\n",
            "Details:\n",
            "- Salary: 97.89%\n",
            "\n",
            "Original: Bonus kinerja tahunan\n",
            "Processed: bonus kerja tahun\n",
            "Prediction: Bonus (Confidence: 97.45%)\n",
            "Details:\n",
            "- Bonus: 97.45%\n",
            "\n",
            "Original: Annual performance bonus\n",
            "Processed: annual performance bonus\n",
            "Prediction: Bonus (Confidence: 98.53%)\n",
            "Details:\n",
            "- Bonus: 98.53%\n",
            "\n",
            "Original: Pendapatan freelance programming\n",
            "Processed: dapat kerja lepas programming\n",
            "Prediction: Freelance (Confidence: 97.73%)\n",
            "Details:\n",
            "- Freelance: 97.73%\n",
            "\n",
            "Original: Freelance writing income\n",
            "Processed: kerja lepas writing dapat\n",
            "Prediction: Freelance (Confidence: 97.91%)\n",
            "Details:\n",
            "- Freelance: 97.91%\n",
            "\n",
            "Original: Dividen saham teknologi\n",
            "Processed: dividen investasi teknologi\n",
            "Prediction: Dividend (Confidence: 95.34%)\n",
            "Details:\n",
            "- Dividend: 95.34%\n",
            "\n",
            "Original: Tech stock dividends\n",
            "Processed: tech stock dividen\n",
            "Prediction: Dividend (Confidence: 84.44%)\n",
            "Details:\n",
            "- Dividend: 84.44%\n",
            "- Investment: 12.43%\n",
            "\n",
            "Original: Pendapatan sewa rumah\n",
            "Processed: dapat sewa rumah\n",
            "Prediction: Rental (Confidence: 93.57%)\n",
            "Details:\n",
            "- Rental: 93.57%\n",
            "\n",
            "Original: House rental income\n",
            "Processed: house sewaal dapat\n",
            "Prediction: Rental (Confidence: 93.78%)\n",
            "Details:\n",
            "- Rental: 93.78%\n",
            "\n",
            "Original: Uang THR lebaran\n",
            "Processed: uang tunjang hari raya lebaran\n",
            "Prediction: Holiday Bonus (Confidence: 98.89%)\n",
            "Details:\n",
            "- Holiday Bonus: 98.89%\n",
            "\n",
            "Original: Year-end holiday allowance\n",
            "Processed: yearend libur uang saku\n",
            "Prediction: Holiday Bonus (Confidence: 98.49%)\n",
            "Details:\n",
            "- Holiday Bonus: 98.49%\n",
            "\n",
            "Original: Penjualan laptop bekas\n",
            "Processed: jual laptop bekas\n",
            "Prediction: Asset Sale (Confidence: 97.43%)\n",
            "Details:\n",
            "- Asset Sale: 97.43%\n",
            "\n",
            "Original: Used car sale proceeds\n",
            "Processed: used car jual proceeds\n",
            "Prediction: Asset Sale (Confidence: 97.54%)\n",
            "Details:\n",
            "- Asset Sale: 97.54%\n",
            "\n",
            "Original: Uang saku mingguan\n",
            "Processed: uang saku minggu\n",
            "Prediction: Allowance (Confidence: 96.08%)\n",
            "Details:\n",
            "- Allowance: 96.08%\n",
            "\n",
            "Original: Weekly allowance money\n",
            "Processed: weekly uang saku money\n",
            "Prediction: Allowance (Confidence: 99.29%)\n",
            "Details:\n",
            "- Allowance: 99.29%\n",
            "\n",
            "Original: Warisan keluarga\n",
            "Processed: warisan keluarga\n",
            "Prediction: Inheritance (Confidence: 83.18%)\n",
            "Details:\n",
            "- Inheritance: 83.18%\n",
            "- Refund: 7.32%\n",
            "\n",
            "Original: Family inheritance\n",
            "Processed: family warisan\n",
            "Prediction: Inheritance (Confidence: 85.48%)\n",
            "Details:\n",
            "- Inheritance: 85.48%\n",
            "- Refund: 7.16%\n",
            "\n",
            "Original: Pensiun bulanan\n",
            "Processed: pensiun bulan\n",
            "Prediction: Pension (Confidence: 90.53%)\n",
            "Details:\n",
            "- Pension: 90.53%\n",
            "\n",
            "Original: Monthly pension payment\n",
            "Processed: monthly pensiun payment\n",
            "Prediction: Pension (Confidence: 97.60%)\n",
            "Details:\n",
            "- Pension: 97.60%\n",
            "\n",
            "Original: Pengembalian dana tiket\n",
            "Processed: kembali dana tiket\n",
            "Prediction: Refund (Confidence: 97.52%)\n",
            "Details:\n",
            "- Refund: 97.52%\n",
            "\n",
            "Original: Concert ticket refund\n",
            "Processed: concert ticket kembali dana\n",
            "Prediction: Refund (Confidence: 97.60%)\n",
            "Details:\n",
            "- Refund: 97.60%\n",
            "\n",
            "Original: Pendapatan usaha kecil\n",
            "Processed: dapat usaha kecil\n",
            "Prediction: Small Business (Confidence: 95.31%)\n",
            "Details:\n",
            "- Small Business: 95.31%\n",
            "\n",
            "Original: Small business revenue\n",
            "Processed: small usaha revenue\n",
            "Prediction: Small Business (Confidence: 96.47%)\n",
            "Details:\n",
            "- Small Business: 96.47%\n",
            "\n",
            "Original: Hadiah pernikahan\n",
            "Processed: hadiah nikah\n",
            "Prediction: Gift (Confidence: 90.89%)\n",
            "Details:\n",
            "- Gift: 90.89%\n",
            "\n",
            "Original: Wedding gift money\n",
            "Processed: wedding hadiah money\n",
            "Prediction: Gift (Confidence: 97.47%)\n",
            "Details:\n",
            "- Gift: 97.47%\n",
            "\n",
            "Original: Keuntungan investasi\n",
            "Processed: untung investasi\n",
            "Prediction: Investment (Confidence: 95.04%)\n",
            "Details:\n",
            "- Investment: 95.04%\n",
            "\n",
            "Original: Investment returns\n",
            "Processed: investasi return\n",
            "Prediction: Investment (Confidence: 86.53%)\n",
            "Details:\n",
            "- Investment: 86.53%\n"
          ]
        }
      ],
      "source": [
        "if __name__ == \"__main__\":\n",
        "    try:\n",
        "        # 1. Load and augment data\n",
        "        df = load_and_augment_data('datasets/transactions.csv')\n",
        "        print(f\"Loaded {len(df)} samples with {len(df['label'].unique())} categories\")\n",
        "        print(\"Categories:\", df['label'].unique())\n",
        "\n",
        "        # 2. Train the model\n",
        "        print(\"\\nTraining model...\")\n",
        "        model, tokenizer, label2id, id2label, max_len = train_model(df)\n",
        "\n",
        "        # 3. Initialize classifier\n",
        "        classifier = FinancialClassifier()\n",
        "\n",
        "        # 4. Test predictions with bilingual examples\n",
        "        test_cases = [\n",
        "            \"Gaji bulan Desember dari kantor\",\n",
        "            \"Monthly salary from employer\",\n",
        "            \"Bonus kinerja tahunan\",\n",
        "            \"Annual performance bonus\",\n",
        "            \"Pendapatan freelance programming\",\n",
        "            \"Freelance writing income\",\n",
        "            \"Dividen saham teknologi\",\n",
        "            \"Tech stock dividends\",\n",
        "            \"Pendapatan sewa rumah\",\n",
        "            \"House rental income\",\n",
        "            \"Uang THR lebaran\",\n",
        "            \"Year-end holiday allowance\",\n",
        "            \"Penjualan laptop bekas\",\n",
        "            \"Used car sale proceeds\",\n",
        "            \"Uang saku mingguan\",\n",
        "            \"Weekly allowance money\",\n",
        "            \"Warisan keluarga\",\n",
        "            \"Family inheritance\",\n",
        "            \"Pensiun bulanan\",\n",
        "            \"Monthly pension payment\",\n",
        "            \"Pengembalian dana tiket\",\n",
        "            \"Concert ticket refund\",\n",
        "            \"Pendapatan usaha kecil\",\n",
        "            \"Small business revenue\",\n",
        "            \"Hadiah pernikahan\",\n",
        "            \"Wedding gift money\",\n",
        "            \"Keuntungan investasi\",\n",
        "            \"Investment returns\"\n",
        "        ]\n",
        "\n",
        "        print(\"\\nBilingual Test Predictions:\")\n",
        "        for text in test_cases:\n",
        "            result = classifier.predict(text)\n",
        "            print(f\"\\nOriginal: {result['original_text']}\")\n",
        "            print(f\"Processed: {result['processed_text']}\")\n",
        "            print(f\"Prediction: {result['prediction']} (Confidence: {result['confidence']:.2%})\")\n",
        "            if result['prediction'] == 'Other':\n",
        "                print(f\"⚠️ Low confidence - categorized as Other\")\n",
        "            print(\"Details:\")\n",
        "            for cat, prob in sorted(result['all_predictions'].items(), key=lambda x: x[1], reverse=True):\n",
        "                if prob > 0.05:\n",
        "                    print(f\"- {cat}: {prob:.2%}\")\n",
        "\n",
        "    except FileNotFoundError:\n",
        "        print(\"Error: File 'transactions.csv' not found\")\n",
        "    except Exception as e:\n",
        "        print(f\"Error: {str(e)}\")"
      ]
    }
  ],
  "metadata": {
    "accelerator": "GPU",
    "colab": {
      "gpuType": "T4",
      "provenance": []
    },
    "kernelspec": {
      "display_name": "venv",
      "language": "python",
      "name": "python3"
    },
    "language_info": {
      "codemirror_mode": {
        "name": "ipython",
        "version": 3
      },
      "file_extension": ".py",
      "mimetype": "text/x-python",
      "name": "python",
      "nbconvert_exporter": "python",
      "pygments_lexer": "ipython3",
      "version": "3.12.6"
    }
  },
  "nbformat": 4,
  "nbformat_minor": 0
}